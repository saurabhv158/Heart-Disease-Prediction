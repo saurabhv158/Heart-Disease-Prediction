{
 "cells": [
  {
   "cell_type": "markdown",
   "id": "1e260153",
   "metadata": {},
   "source": [
    "# Heart Disease Prediction"
   ]
  },
  {
   "cell_type": "markdown",
   "id": "dcde4dc3",
   "metadata": {},
   "source": [
    "## Importing essential libraries"
   ]
  },
  {
   "cell_type": "code",
   "execution_count": 93,
   "id": "07e5e6fb",
   "metadata": {},
   "outputs": [
    {
     "name": "stdout",
     "output_type": "stream",
     "text": [
      "['.ipynb_checkpoints', 'ACFrOgBHwX5Vp7oGHsNGv4hVBLA-8Pe7Ndu5Hh5Kad_bs1Jo2pXpA-NF9ZM0rT_EZD6wBY0uggGWoF0qIwc0ISHsOph7AUubCCD3XUPUoOzFQ4Ws3yDSFdXz5sv-9kJE-Gx0nmMGYbpprwMZF5Tq.pdf', 'Assignment2.docx', 'CPU Performance.ipynb', 'CPU_Data.xlsx', 'Heart_Disease.ipynb', 'Heart_Disease_Data.xlsx']\n"
     ]
    }
   ],
   "source": [
    "import numpy as np\n",
    "import pandas as pd\n",
    "import matplotlib.pyplot as plt\n",
    "import seaborn as sns\n",
    "\n",
    "%matplotlib inline\n",
    "\n",
    "import os\n",
    "print(os.listdir())\n",
    "\n",
    "import warnings\n",
    "warnings.filterwarnings('ignore')"
   ]
  },
  {
   "cell_type": "markdown",
   "id": "452ddffa",
   "metadata": {},
   "source": [
    "## Importing and understanding our dataset"
   ]
  },
  {
   "cell_type": "code",
   "execution_count": 94,
   "id": "39e5c708",
   "metadata": {},
   "outputs": [],
   "source": [
    "dataset = pd.read_excel(\"Heart_Disease_Data.xlsx\")"
   ]
  },
  {
   "cell_type": "markdown",
   "id": "7109538b",
   "metadata": {},
   "source": [
    "### Verifying it as a 'dataframe' object in pandas"
   ]
  },
  {
   "cell_type": "code",
   "execution_count": 95,
   "id": "578ec000",
   "metadata": {},
   "outputs": [
    {
     "data": {
      "text/plain": [
       "pandas.core.frame.DataFrame"
      ]
     },
     "execution_count": 95,
     "metadata": {},
     "output_type": "execute_result"
    }
   ],
   "source": [
    "type(dataset)"
   ]
  },
  {
   "cell_type": "markdown",
   "id": "3376a023",
   "metadata": {},
   "source": [
    "Shape of dataset"
   ]
  },
  {
   "cell_type": "code",
   "execution_count": 96,
   "id": "220b70d3",
   "metadata": {},
   "outputs": [
    {
     "data": {
      "text/plain": [
       "(303, 26)"
      ]
     },
     "execution_count": 96,
     "metadata": {},
     "output_type": "execute_result"
    }
   ],
   "source": [
    "dataset.shape"
   ]
  },
  {
   "cell_type": "code",
   "execution_count": 97,
   "id": "6c65c910",
   "metadata": {},
   "outputs": [],
   "source": [
    "dataset=dataset.iloc[:,0:14]"
   ]
  },
  {
   "cell_type": "markdown",
   "id": "b3166881",
   "metadata": {},
   "source": [
    "Printing out a header columns"
   ]
  },
  {
   "cell_type": "code",
   "execution_count": 98,
   "id": "971d5b77",
   "metadata": {},
   "outputs": [
    {
     "data": {
      "text/html": [
       "<div>\n",
       "<style scoped>\n",
       "    .dataframe tbody tr th:only-of-type {\n",
       "        vertical-align: middle;\n",
       "    }\n",
       "\n",
       "    .dataframe tbody tr th {\n",
       "        vertical-align: top;\n",
       "    }\n",
       "\n",
       "    .dataframe thead th {\n",
       "        text-align: right;\n",
       "    }\n",
       "</style>\n",
       "<table border=\"1\" class=\"dataframe\">\n",
       "  <thead>\n",
       "    <tr style=\"text-align: right;\">\n",
       "      <th></th>\n",
       "      <th>Age</th>\n",
       "      <th>Sex</th>\n",
       "      <th>CP</th>\n",
       "      <th>RestBP</th>\n",
       "      <th>Cholesteral</th>\n",
       "      <th>FBP</th>\n",
       "      <th>RestECG</th>\n",
       "      <th>Max_HR</th>\n",
       "      <th>ExAngina</th>\n",
       "      <th>Oldpeak</th>\n",
       "      <th>Slope</th>\n",
       "      <th>CA</th>\n",
       "      <th>Thal</th>\n",
       "      <th>Result</th>\n",
       "    </tr>\n",
       "  </thead>\n",
       "  <tbody>\n",
       "    <tr>\n",
       "      <th>0</th>\n",
       "      <td>63</td>\n",
       "      <td>1</td>\n",
       "      <td>3</td>\n",
       "      <td>145</td>\n",
       "      <td>233</td>\n",
       "      <td>1</td>\n",
       "      <td>0</td>\n",
       "      <td>150</td>\n",
       "      <td>0</td>\n",
       "      <td>2.3</td>\n",
       "      <td>0</td>\n",
       "      <td>0</td>\n",
       "      <td>1</td>\n",
       "      <td>1</td>\n",
       "    </tr>\n",
       "    <tr>\n",
       "      <th>1</th>\n",
       "      <td>37</td>\n",
       "      <td>1</td>\n",
       "      <td>2</td>\n",
       "      <td>130</td>\n",
       "      <td>250</td>\n",
       "      <td>0</td>\n",
       "      <td>1</td>\n",
       "      <td>187</td>\n",
       "      <td>0</td>\n",
       "      <td>3.5</td>\n",
       "      <td>0</td>\n",
       "      <td>0</td>\n",
       "      <td>2</td>\n",
       "      <td>1</td>\n",
       "    </tr>\n",
       "    <tr>\n",
       "      <th>2</th>\n",
       "      <td>41</td>\n",
       "      <td>0</td>\n",
       "      <td>1</td>\n",
       "      <td>130</td>\n",
       "      <td>204</td>\n",
       "      <td>0</td>\n",
       "      <td>0</td>\n",
       "      <td>172</td>\n",
       "      <td>0</td>\n",
       "      <td>1.4</td>\n",
       "      <td>2</td>\n",
       "      <td>0</td>\n",
       "      <td>2</td>\n",
       "      <td>1</td>\n",
       "    </tr>\n",
       "    <tr>\n",
       "      <th>3</th>\n",
       "      <td>56</td>\n",
       "      <td>1</td>\n",
       "      <td>1</td>\n",
       "      <td>120</td>\n",
       "      <td>236</td>\n",
       "      <td>0</td>\n",
       "      <td>1</td>\n",
       "      <td>178</td>\n",
       "      <td>0</td>\n",
       "      <td>0.8</td>\n",
       "      <td>2</td>\n",
       "      <td>0</td>\n",
       "      <td>2</td>\n",
       "      <td>1</td>\n",
       "    </tr>\n",
       "    <tr>\n",
       "      <th>4</th>\n",
       "      <td>57</td>\n",
       "      <td>0</td>\n",
       "      <td>0</td>\n",
       "      <td>120</td>\n",
       "      <td>354</td>\n",
       "      <td>0</td>\n",
       "      <td>1</td>\n",
       "      <td>163</td>\n",
       "      <td>1</td>\n",
       "      <td>0.6</td>\n",
       "      <td>2</td>\n",
       "      <td>0</td>\n",
       "      <td>2</td>\n",
       "      <td>1</td>\n",
       "    </tr>\n",
       "  </tbody>\n",
       "</table>\n",
       "</div>"
      ],
      "text/plain": [
       "   Age  Sex  CP  RestBP  Cholesteral  FBP  RestECG  Max_HR  ExAngina  Oldpeak  \\\n",
       "0   63    1   3     145          233    1        0     150         0      2.3   \n",
       "1   37    1   2     130          250    0        1     187         0      3.5   \n",
       "2   41    0   1     130          204    0        0     172         0      1.4   \n",
       "3   56    1   1     120          236    0        1     178         0      0.8   \n",
       "4   57    0   0     120          354    0        1     163         1      0.6   \n",
       "\n",
       "   Slope  CA  Thal  Result  \n",
       "0      0   0     1       1  \n",
       "1      0   0     2       1  \n",
       "2      2   0     2       1  \n",
       "3      2   0     2       1  \n",
       "4      2   0     2       1  "
      ]
     },
     "execution_count": 98,
     "metadata": {},
     "output_type": "execute_result"
    }
   ],
   "source": [
    "dataset.head(5)"
   ]
  },
  {
   "cell_type": "code",
   "execution_count": 99,
   "id": "b7045b41",
   "metadata": {},
   "outputs": [
    {
     "data": {
      "text/html": [
       "<div>\n",
       "<style scoped>\n",
       "    .dataframe tbody tr th:only-of-type {\n",
       "        vertical-align: middle;\n",
       "    }\n",
       "\n",
       "    .dataframe tbody tr th {\n",
       "        vertical-align: top;\n",
       "    }\n",
       "\n",
       "    .dataframe thead th {\n",
       "        text-align: right;\n",
       "    }\n",
       "</style>\n",
       "<table border=\"1\" class=\"dataframe\">\n",
       "  <thead>\n",
       "    <tr style=\"text-align: right;\">\n",
       "      <th></th>\n",
       "      <th>Age</th>\n",
       "      <th>Sex</th>\n",
       "      <th>CP</th>\n",
       "      <th>RestBP</th>\n",
       "      <th>Cholesteral</th>\n",
       "      <th>FBP</th>\n",
       "      <th>RestECG</th>\n",
       "      <th>Max_HR</th>\n",
       "      <th>ExAngina</th>\n",
       "      <th>Oldpeak</th>\n",
       "      <th>Slope</th>\n",
       "      <th>CA</th>\n",
       "      <th>Thal</th>\n",
       "      <th>Result</th>\n",
       "    </tr>\n",
       "  </thead>\n",
       "  <tbody>\n",
       "    <tr>\n",
       "      <th>193</th>\n",
       "      <td>60</td>\n",
       "      <td>1</td>\n",
       "      <td>0</td>\n",
       "      <td>145</td>\n",
       "      <td>282</td>\n",
       "      <td>0</td>\n",
       "      <td>0</td>\n",
       "      <td>142</td>\n",
       "      <td>1</td>\n",
       "      <td>2.8</td>\n",
       "      <td>1</td>\n",
       "      <td>2</td>\n",
       "      <td>3</td>\n",
       "      <td>0</td>\n",
       "    </tr>\n",
       "    <tr>\n",
       "      <th>248</th>\n",
       "      <td>54</td>\n",
       "      <td>1</td>\n",
       "      <td>1</td>\n",
       "      <td>192</td>\n",
       "      <td>283</td>\n",
       "      <td>0</td>\n",
       "      <td>0</td>\n",
       "      <td>195</td>\n",
       "      <td>0</td>\n",
       "      <td>0.0</td>\n",
       "      <td>2</td>\n",
       "      <td>1</td>\n",
       "      <td>3</td>\n",
       "      <td>0</td>\n",
       "    </tr>\n",
       "    <tr>\n",
       "      <th>56</th>\n",
       "      <td>48</td>\n",
       "      <td>1</td>\n",
       "      <td>0</td>\n",
       "      <td>122</td>\n",
       "      <td>222</td>\n",
       "      <td>0</td>\n",
       "      <td>0</td>\n",
       "      <td>186</td>\n",
       "      <td>0</td>\n",
       "      <td>0.0</td>\n",
       "      <td>2</td>\n",
       "      <td>0</td>\n",
       "      <td>2</td>\n",
       "      <td>1</td>\n",
       "    </tr>\n",
       "    <tr>\n",
       "      <th>221</th>\n",
       "      <td>55</td>\n",
       "      <td>1</td>\n",
       "      <td>0</td>\n",
       "      <td>140</td>\n",
       "      <td>217</td>\n",
       "      <td>0</td>\n",
       "      <td>1</td>\n",
       "      <td>111</td>\n",
       "      <td>1</td>\n",
       "      <td>5.6</td>\n",
       "      <td>0</td>\n",
       "      <td>0</td>\n",
       "      <td>3</td>\n",
       "      <td>0</td>\n",
       "    </tr>\n",
       "    <tr>\n",
       "      <th>113</th>\n",
       "      <td>43</td>\n",
       "      <td>1</td>\n",
       "      <td>0</td>\n",
       "      <td>110</td>\n",
       "      <td>211</td>\n",
       "      <td>0</td>\n",
       "      <td>1</td>\n",
       "      <td>161</td>\n",
       "      <td>0</td>\n",
       "      <td>0.0</td>\n",
       "      <td>2</td>\n",
       "      <td>0</td>\n",
       "      <td>3</td>\n",
       "      <td>1</td>\n",
       "    </tr>\n",
       "  </tbody>\n",
       "</table>\n",
       "</div>"
      ],
      "text/plain": [
       "     Age  Sex  CP  RestBP  Cholesteral  FBP  RestECG  Max_HR  ExAngina  \\\n",
       "193   60    1   0     145          282    0        0     142         1   \n",
       "248   54    1   1     192          283    0        0     195         0   \n",
       "56    48    1   0     122          222    0        0     186         0   \n",
       "221   55    1   0     140          217    0        1     111         1   \n",
       "113   43    1   0     110          211    0        1     161         0   \n",
       "\n",
       "     Oldpeak  Slope  CA  Thal  Result  \n",
       "193      2.8      1   2     3       0  \n",
       "248      0.0      2   1     3       0  \n",
       "56       0.0      2   0     2       1  \n",
       "221      5.6      0   0     3       0  \n",
       "113      0.0      2   0     3       1  "
      ]
     },
     "execution_count": 99,
     "metadata": {},
     "output_type": "execute_result"
    }
   ],
   "source": [
    "dataset.sample(5)"
   ]
  },
  {
   "cell_type": "markdown",
   "id": "fe947432",
   "metadata": {},
   "source": [
    "Description"
   ]
  },
  {
   "cell_type": "code",
   "execution_count": 100,
   "id": "aa965561",
   "metadata": {},
   "outputs": [
    {
     "data": {
      "text/html": [
       "<div>\n",
       "<style scoped>\n",
       "    .dataframe tbody tr th:only-of-type {\n",
       "        vertical-align: middle;\n",
       "    }\n",
       "\n",
       "    .dataframe tbody tr th {\n",
       "        vertical-align: top;\n",
       "    }\n",
       "\n",
       "    .dataframe thead th {\n",
       "        text-align: right;\n",
       "    }\n",
       "</style>\n",
       "<table border=\"1\" class=\"dataframe\">\n",
       "  <thead>\n",
       "    <tr style=\"text-align: right;\">\n",
       "      <th></th>\n",
       "      <th>Age</th>\n",
       "      <th>Sex</th>\n",
       "      <th>CP</th>\n",
       "      <th>RestBP</th>\n",
       "      <th>Cholesteral</th>\n",
       "      <th>FBP</th>\n",
       "      <th>RestECG</th>\n",
       "      <th>Max_HR</th>\n",
       "      <th>ExAngina</th>\n",
       "      <th>Oldpeak</th>\n",
       "      <th>Slope</th>\n",
       "      <th>CA</th>\n",
       "      <th>Thal</th>\n",
       "      <th>Result</th>\n",
       "    </tr>\n",
       "  </thead>\n",
       "  <tbody>\n",
       "    <tr>\n",
       "      <th>count</th>\n",
       "      <td>303.000000</td>\n",
       "      <td>303.000000</td>\n",
       "      <td>303.000000</td>\n",
       "      <td>303.000000</td>\n",
       "      <td>303.000000</td>\n",
       "      <td>303.000000</td>\n",
       "      <td>303.000000</td>\n",
       "      <td>303.000000</td>\n",
       "      <td>303.000000</td>\n",
       "      <td>303.000000</td>\n",
       "      <td>303.000000</td>\n",
       "      <td>303.000000</td>\n",
       "      <td>303.000000</td>\n",
       "      <td>303.000000</td>\n",
       "    </tr>\n",
       "    <tr>\n",
       "      <th>mean</th>\n",
       "      <td>54.366337</td>\n",
       "      <td>0.683168</td>\n",
       "      <td>0.966997</td>\n",
       "      <td>131.623762</td>\n",
       "      <td>246.264026</td>\n",
       "      <td>0.148515</td>\n",
       "      <td>0.528053</td>\n",
       "      <td>149.646865</td>\n",
       "      <td>0.326733</td>\n",
       "      <td>1.039604</td>\n",
       "      <td>1.399340</td>\n",
       "      <td>0.729373</td>\n",
       "      <td>2.313531</td>\n",
       "      <td>0.544554</td>\n",
       "    </tr>\n",
       "    <tr>\n",
       "      <th>std</th>\n",
       "      <td>9.082101</td>\n",
       "      <td>0.466011</td>\n",
       "      <td>1.032052</td>\n",
       "      <td>17.538143</td>\n",
       "      <td>51.830751</td>\n",
       "      <td>0.356198</td>\n",
       "      <td>0.525860</td>\n",
       "      <td>22.905161</td>\n",
       "      <td>0.469794</td>\n",
       "      <td>1.161075</td>\n",
       "      <td>0.616226</td>\n",
       "      <td>1.022606</td>\n",
       "      <td>0.612277</td>\n",
       "      <td>0.498835</td>\n",
       "    </tr>\n",
       "    <tr>\n",
       "      <th>min</th>\n",
       "      <td>29.000000</td>\n",
       "      <td>0.000000</td>\n",
       "      <td>0.000000</td>\n",
       "      <td>94.000000</td>\n",
       "      <td>126.000000</td>\n",
       "      <td>0.000000</td>\n",
       "      <td>0.000000</td>\n",
       "      <td>71.000000</td>\n",
       "      <td>0.000000</td>\n",
       "      <td>0.000000</td>\n",
       "      <td>0.000000</td>\n",
       "      <td>0.000000</td>\n",
       "      <td>0.000000</td>\n",
       "      <td>0.000000</td>\n",
       "    </tr>\n",
       "    <tr>\n",
       "      <th>25%</th>\n",
       "      <td>47.500000</td>\n",
       "      <td>0.000000</td>\n",
       "      <td>0.000000</td>\n",
       "      <td>120.000000</td>\n",
       "      <td>211.000000</td>\n",
       "      <td>0.000000</td>\n",
       "      <td>0.000000</td>\n",
       "      <td>133.500000</td>\n",
       "      <td>0.000000</td>\n",
       "      <td>0.000000</td>\n",
       "      <td>1.000000</td>\n",
       "      <td>0.000000</td>\n",
       "      <td>2.000000</td>\n",
       "      <td>0.000000</td>\n",
       "    </tr>\n",
       "    <tr>\n",
       "      <th>50%</th>\n",
       "      <td>55.000000</td>\n",
       "      <td>1.000000</td>\n",
       "      <td>1.000000</td>\n",
       "      <td>130.000000</td>\n",
       "      <td>240.000000</td>\n",
       "      <td>0.000000</td>\n",
       "      <td>1.000000</td>\n",
       "      <td>153.000000</td>\n",
       "      <td>0.000000</td>\n",
       "      <td>0.800000</td>\n",
       "      <td>1.000000</td>\n",
       "      <td>0.000000</td>\n",
       "      <td>2.000000</td>\n",
       "      <td>1.000000</td>\n",
       "    </tr>\n",
       "    <tr>\n",
       "      <th>75%</th>\n",
       "      <td>61.000000</td>\n",
       "      <td>1.000000</td>\n",
       "      <td>2.000000</td>\n",
       "      <td>140.000000</td>\n",
       "      <td>274.500000</td>\n",
       "      <td>0.000000</td>\n",
       "      <td>1.000000</td>\n",
       "      <td>166.000000</td>\n",
       "      <td>1.000000</td>\n",
       "      <td>1.600000</td>\n",
       "      <td>2.000000</td>\n",
       "      <td>1.000000</td>\n",
       "      <td>3.000000</td>\n",
       "      <td>1.000000</td>\n",
       "    </tr>\n",
       "    <tr>\n",
       "      <th>max</th>\n",
       "      <td>77.000000</td>\n",
       "      <td>1.000000</td>\n",
       "      <td>3.000000</td>\n",
       "      <td>200.000000</td>\n",
       "      <td>564.000000</td>\n",
       "      <td>1.000000</td>\n",
       "      <td>2.000000</td>\n",
       "      <td>202.000000</td>\n",
       "      <td>1.000000</td>\n",
       "      <td>6.200000</td>\n",
       "      <td>2.000000</td>\n",
       "      <td>4.000000</td>\n",
       "      <td>3.000000</td>\n",
       "      <td>1.000000</td>\n",
       "    </tr>\n",
       "  </tbody>\n",
       "</table>\n",
       "</div>"
      ],
      "text/plain": [
       "              Age         Sex          CP      RestBP  Cholesteral  \\\n",
       "count  303.000000  303.000000  303.000000  303.000000   303.000000   \n",
       "mean    54.366337    0.683168    0.966997  131.623762   246.264026   \n",
       "std      9.082101    0.466011    1.032052   17.538143    51.830751   \n",
       "min     29.000000    0.000000    0.000000   94.000000   126.000000   \n",
       "25%     47.500000    0.000000    0.000000  120.000000   211.000000   \n",
       "50%     55.000000    1.000000    1.000000  130.000000   240.000000   \n",
       "75%     61.000000    1.000000    2.000000  140.000000   274.500000   \n",
       "max     77.000000    1.000000    3.000000  200.000000   564.000000   \n",
       "\n",
       "              FBP     RestECG      Max_HR    ExAngina     Oldpeak       Slope  \\\n",
       "count  303.000000  303.000000  303.000000  303.000000  303.000000  303.000000   \n",
       "mean     0.148515    0.528053  149.646865    0.326733    1.039604    1.399340   \n",
       "std      0.356198    0.525860   22.905161    0.469794    1.161075    0.616226   \n",
       "min      0.000000    0.000000   71.000000    0.000000    0.000000    0.000000   \n",
       "25%      0.000000    0.000000  133.500000    0.000000    0.000000    1.000000   \n",
       "50%      0.000000    1.000000  153.000000    0.000000    0.800000    1.000000   \n",
       "75%      0.000000    1.000000  166.000000    1.000000    1.600000    2.000000   \n",
       "max      1.000000    2.000000  202.000000    1.000000    6.200000    2.000000   \n",
       "\n",
       "               CA        Thal      Result  \n",
       "count  303.000000  303.000000  303.000000  \n",
       "mean     0.729373    2.313531    0.544554  \n",
       "std      1.022606    0.612277    0.498835  \n",
       "min      0.000000    0.000000    0.000000  \n",
       "25%      0.000000    2.000000    0.000000  \n",
       "50%      0.000000    2.000000    1.000000  \n",
       "75%      1.000000    3.000000    1.000000  \n",
       "max      4.000000    3.000000    1.000000  "
      ]
     },
     "execution_count": 100,
     "metadata": {},
     "output_type": "execute_result"
    }
   ],
   "source": [
    "dataset.describe()"
   ]
  },
  {
   "cell_type": "code",
   "execution_count": 101,
   "id": "46039056",
   "metadata": {},
   "outputs": [
    {
     "name": "stdout",
     "output_type": "stream",
     "text": [
      "<class 'pandas.core.frame.DataFrame'>\n",
      "RangeIndex: 303 entries, 0 to 302\n",
      "Data columns (total 14 columns):\n",
      " #   Column       Non-Null Count  Dtype  \n",
      "---  ------       --------------  -----  \n",
      " 0   Age          303 non-null    int64  \n",
      " 1   Sex          303 non-null    int64  \n",
      " 2   CP           303 non-null    int64  \n",
      " 3   RestBP       303 non-null    int64  \n",
      " 4   Cholesteral  303 non-null    int64  \n",
      " 5   FBP          303 non-null    int64  \n",
      " 6   RestECG      303 non-null    int64  \n",
      " 7   Max_HR       303 non-null    int64  \n",
      " 8   ExAngina     303 non-null    int64  \n",
      " 9   Oldpeak      303 non-null    float64\n",
      " 10  Slope        303 non-null    int64  \n",
      " 11  CA           303 non-null    int64  \n",
      " 12  Thal         303 non-null    int64  \n",
      " 13  Result       303 non-null    int64  \n",
      "dtypes: float64(1), int64(13)\n",
      "memory usage: 33.3 KB\n"
     ]
    }
   ],
   "source": [
    "dataset.info()"
   ]
  },
  {
   "cell_type": "markdown",
   "id": "7e753db5",
   "metadata": {},
   "source": [
    "#### Luckily, we have no missing values\n"
   ]
  },
  {
   "cell_type": "code",
   "execution_count": 102,
   "id": "dd67dc8f",
   "metadata": {},
   "outputs": [
    {
     "data": {
      "image/png": "[encoded data removed]",
      "text/plain": [
       "<Figure size 864x648 with 8 Axes>"
      ]
     },
     "metadata": {
      "needs_background": "light"
     },
     "output_type": "display_data"
    }
   ],
   "source": [
    "numeric_feat=['Age','Sex','RestBP','Cholesteral','Max_HR','Oldpeak','Slope','CA']\n",
    "plt.figure(figsize=(12,9))\n",
    "eda_hd=dataset.loc[:,numeric_feat].copy()\n",
    "eda_hd\n",
    "for i in range(len(eda_hd.columns)):\n",
    "    plt.subplot(2,4,i+1)\n",
    "    sns.boxplot(eda_hd[eda_hd.columns[i]])\n",
    "plt.show()"
   ]
  },
  {
   "cell_type": "code",
   "execution_count": 103,
   "id": "7475e4de",
   "metadata": {},
   "outputs": [
    {
     "data": {
      "image/png": "[encoded data removed]",
      "text/plain": [
       "<Figure size 720x648 with 2 Axes>"
      ]
     },
     "metadata": {
      "needs_background": "light"
     },
     "output_type": "display_data"
    }
   ],
   "source": [
    "eda_corr=eda_hd.corr()\n",
    "plt.figure(figsize=(10,9))\n",
    "sns.heatmap(eda_corr,annot=True,cmap='mako')\n",
    "plt.title('Matrice de Corrélation')\n",
    "plt.show()"
   ]
  },
  {
   "cell_type": "markdown",
   "id": "9186dee3",
   "metadata": {},
   "source": [
    "### Let's understand our columns better:"
   ]
  },
  {
   "cell_type": "code",
   "execution_count": 104,
   "id": "7c9c0c18",
   "metadata": {},
   "outputs": [
    {
     "name": "stdout",
     "output_type": "stream",
     "text": [
      "Age:\t\t\tage\n",
      "Sex:\t\t\t1: male, 0: female\n",
      "CP:\t\t\tchest pain type, 1: typical angina, 2: atypical angina, 3: non-anginal pain, 4: asymptomatic\n",
      "RestBP:\t\t\tresting blood pressure\n",
      "Cholesteral:\t\t\t serum cholestoral in mg/dl\n",
      "FBP:\t\t\tfasting blood sugar > 120 mg/dl\n",
      "RestECG:\t\t\tresting electrocardiographic results (values 0,1,2)\n",
      "Max_HR:\t\t\t maximum heart rate achieved\n",
      "ExAngina:\t\t\texercise induced angina\n",
      "Oldpeak:\t\t\toldpeak = ST depression induced by exercise relative to rest\n",
      "Slope:\t\t\tthe slope of the peak exercise ST segment\n",
      "CA:\t\t\tnumber of major vessels (0-3) colored by flourosopy\n",
      "Thal:\t\t\tthal: 3 = normal; 6 = fixed defect; 7 = reversable defect\n"
     ]
    }
   ],
   "source": [
    "info = [\"age\",\"1: male, 0: female\",\"chest pain type, 1: typical angina, 2: atypical angina, 3: non-anginal pain, 4: asymptomatic\",\"resting blood pressure\",\" serum cholestoral in mg/dl\",\"fasting blood sugar > 120 mg/dl\",\"resting electrocardiographic results (values 0,1,2)\",\" maximum heart rate achieved\",\"exercise induced angina\",\"oldpeak = ST depression induced by exercise relative to rest\",\"the slope of the peak exercise ST segment\",\"number of major vessels (0-3) colored by flourosopy\",\"thal: 3 = normal; 6 = fixed defect; 7 = reversable defect\"]\n",
    "\n",
    "\n",
    "\n",
    "for i in range(len(info)):\n",
    "    print(dataset.columns[i]+\":\\t\\t\\t\"+info[i])"
   ]
  },
  {
   "cell_type": "markdown",
   "id": "ec63acdf",
   "metadata": {},
   "source": [
    "#### Analysing the 'Result' variable"
   ]
  },
  {
   "cell_type": "code",
   "execution_count": 105,
   "id": "1e9ca9ce",
   "metadata": {},
   "outputs": [
    {
     "data": {
      "text/plain": [
       "count    303.000000\n",
       "mean       0.544554\n",
       "std        0.498835\n",
       "min        0.000000\n",
       "25%        0.000000\n",
       "50%        1.000000\n",
       "75%        1.000000\n",
       "max        1.000000\n",
       "Name: Result, dtype: float64"
      ]
     },
     "execution_count": 105,
     "metadata": {},
     "output_type": "execute_result"
    }
   ],
   "source": [
    "dataset[\"Result\"].describe()"
   ]
  },
  {
   "cell_type": "code",
   "execution_count": 106,
   "id": "90a69589",
   "metadata": {},
   "outputs": [
    {
     "data": {
      "text/plain": [
       "array([1, 0], dtype=int64)"
      ]
     },
     "execution_count": 106,
     "metadata": {},
     "output_type": "execute_result"
    }
   ],
   "source": [
    "dataset[\"Result\"].unique()"
   ]
  },
  {
   "cell_type": "markdown",
   "id": "582ba8b6",
   "metadata": {},
   "source": [
    "#### Clearly, this is a classification problem, with the target variable having values '0' and '1'\n",
    "### Checking correlation between columns"
   ]
  },
  {
   "cell_type": "code",
   "execution_count": 107,
   "id": "245df9ad",
   "metadata": {},
   "outputs": [
    {
     "name": "stdout",
     "output_type": "stream",
     "text": [
      "Result         1.000000\n",
      "ExAngina       0.436757\n",
      "CP             0.433798\n",
      "Oldpeak        0.430696\n",
      "Max_HR         0.421741\n",
      "CA             0.391724\n",
      "Slope          0.345877\n",
      "Thal           0.344029\n",
      "Sex            0.280937\n",
      "Age            0.225439\n",
      "RestBP         0.144931\n",
      "RestECG        0.137230\n",
      "Cholesteral    0.085239\n",
      "FBP            0.028046\n",
      "Name: Result, dtype: float64\n"
     ]
    }
   ],
   "source": [
    "print(dataset.corr()[\"Result\"].abs().sort_values(ascending=False))"
   ]
  },
  {
   "cell_type": "markdown",
   "id": "ee1c1825",
   "metadata": {},
   "source": [
    "This shows that most columns are moderately correlated with Result, but 'FBP' is very weakly correlated."
   ]
  },
  {
   "cell_type": "markdown",
   "id": "8836f9c2",
   "metadata": {},
   "source": [
    "# Exploratory Data Analysis (EDA)\n",
    "## First, analysing the target variable:"
   ]
  },
  {
   "cell_type": "code",
   "execution_count": 108,
   "id": "1c7c1aed",
   "metadata": {},
   "outputs": [
    {
     "name": "stdout",
     "output_type": "stream",
     "text": [
      "1    165\n",
      "0    138\n",
      "Name: Result, dtype: int64\n"
     ]
    },
    {
     "data": {
      "image/png": "[encoded data removed]",
      "text/plain": [
       "<Figure size 432x288 with 1 Axes>"
      ]
     },
     "metadata": {
      "needs_background": "light"
     },
     "output_type": "display_data"
    }
   ],
   "source": [
    "y = dataset[\"Result\"]\n",
    "\n",
    "sns.countplot(y)\n",
    "\n",
    "\n",
    "Result_temp = dataset.Result.value_counts()\n",
    "\n",
    "print(Result_temp)"
   ]
  },
  {
   "cell_type": "code",
   "execution_count": 109,
   "id": "9c33bdec",
   "metadata": {},
   "outputs": [
    {
     "name": "stdout",
     "output_type": "stream",
     "text": [
      "Percentage of patience without heart problems: 45.54\n",
      "Percentage of patience with heart problems: 54.46\n"
     ]
    }
   ],
   "source": [
    "print(\"Percentage of patience without heart problems: \"+str(round(Result_temp[0]*100/303,2)))\n",
    "print(\"Percentage of patience with heart problems: \"+str(round(Result_temp[1]*100/303,2)))\n",
    "\n",
    "#Alternatively,\n",
    "# print(\"Percentage of patience with heart problems: \"+str(y.where(y==1).count()*100/303))\n",
    "# print(\"Percentage of patience with heart problems: \"+str(y.where(y==0).count()*100/303))\n",
    "\n",
    "# #Or,\n",
    "# countNoDisease = len(df[df.target == 0])\n",
    "# countHaveDisease = len(df[df.target == 1])"
   ]
  },
  {
   "cell_type": "markdown",
   "id": "3736fa24",
   "metadata": {},
   "source": [
    "### We'll analyse 'sex', 'cp', 'FBP', 'RestECG', 'ExAngina', 'slope', 'ca' and 'thal' features\n",
    "# Analysing the 'Sex' feature"
   ]
  },
  {
   "cell_type": "code",
   "execution_count": 110,
   "id": "294edd46",
   "metadata": {},
   "outputs": [
    {
     "data": {
      "text/plain": [
       "array([1, 0], dtype=int64)"
      ]
     },
     "execution_count": 110,
     "metadata": {},
     "output_type": "execute_result"
    }
   ],
   "source": [
    "dataset[\"Sex\"].unique()"
   ]
  },
  {
   "cell_type": "code",
   "execution_count": 111,
   "id": "fca6e591",
   "metadata": {},
   "outputs": [
    {
     "data": {
      "text/plain": [
       "<AxesSubplot:xlabel='Sex', ylabel='Result'>"
      ]
     },
     "execution_count": 111,
     "metadata": {},
     "output_type": "execute_result"
    },
    {
     "data": {
      "image/png": "[encoded data removed]",
      "text/plain": [
       "<Figure size 432x288 with 1 Axes>"
      ]
     },
     "metadata": {
      "needs_background": "light"
     },
     "output_type": "display_data"
    }
   ],
   "source": [
    "sns.barplot(dataset[\"Sex\"],y)"
   ]
  },
  {
   "cell_type": "markdown",
   "id": "5def7206",
   "metadata": {},
   "source": [
    "We notice, that females are more likely to have heart problems than males"
   ]
  },
  {
   "cell_type": "markdown",
   "id": "3e263d9e",
   "metadata": {},
   "source": [
    "## Analysing the 'Chest Pain Type' feature"
   ]
  },
  {
   "cell_type": "code",
   "execution_count": 112,
   "id": "c4c45e0d",
   "metadata": {},
   "outputs": [
    {
     "data": {
      "text/plain": [
       "array([3, 2, 1, 0], dtype=int64)"
      ]
     },
     "execution_count": 112,
     "metadata": {},
     "output_type": "execute_result"
    }
   ],
   "source": [
    "dataset[\"CP\"].unique()"
   ]
  },
  {
   "cell_type": "markdown",
   "id": "c14f4ca8",
   "metadata": {},
   "source": [
    "As expected, the CP feature has values from 0 to 3"
   ]
  },
  {
   "cell_type": "code",
   "execution_count": 113,
   "id": "03bac683",
   "metadata": {},
   "outputs": [
    {
     "data": {
      "text/plain": [
       "<AxesSubplot:xlabel='CP', ylabel='Result'>"
      ]
     },
     "execution_count": 113,
     "metadata": {},
     "output_type": "execute_result"
    },
    {
     "data": {
      "image/png": "[encoded data removed]",
      "text/plain": [
       "<Figure size 432x288 with 1 Axes>"
      ]
     },
     "metadata": {
      "needs_background": "light"
     },
     "output_type": "display_data"
    }
   ],
   "source": [
    "sns.barplot(dataset[\"CP\"],y)"
   ]
  },
  {
   "cell_type": "markdown",
   "id": "06a28249",
   "metadata": {},
   "source": [
    "We notice, that chest pain of '0', i.e. the ones with typical angina are much less likely to have heart problems"
   ]
  },
  {
   "cell_type": "markdown",
   "id": "536746d9",
   "metadata": {},
   "source": [
    "## Analysing the FBP feature"
   ]
  },
  {
   "cell_type": "code",
   "execution_count": 114,
   "id": "5b6ce3c6",
   "metadata": {},
   "outputs": [
    {
     "data": {
      "text/plain": [
       "count    303.000000\n",
       "mean       0.148515\n",
       "std        0.356198\n",
       "min        0.000000\n",
       "25%        0.000000\n",
       "50%        0.000000\n",
       "75%        0.000000\n",
       "max        1.000000\n",
       "Name: FBP, dtype: float64"
      ]
     },
     "execution_count": 114,
     "metadata": {},
     "output_type": "execute_result"
    }
   ],
   "source": [
    "dataset[\"FBP\"].describe()"
   ]
  },
  {
   "cell_type": "code",
   "execution_count": 115,
   "id": "6c4c32dc",
   "metadata": {},
   "outputs": [
    {
     "data": {
      "text/plain": [
       "array([1, 0], dtype=int64)"
      ]
     },
     "execution_count": 115,
     "metadata": {},
     "output_type": "execute_result"
    }
   ],
   "source": [
    "dataset[\"FBP\"].unique()"
   ]
  },
  {
   "cell_type": "code",
   "execution_count": 116,
   "id": "1823685e",
   "metadata": {},
   "outputs": [
    {
     "data": {
      "text/plain": [
       "<AxesSubplot:xlabel='FBP', ylabel='Result'>"
      ]
     },
     "execution_count": 116,
     "metadata": {},
     "output_type": "execute_result"
    },
    {
     "data": {
      "image/png": "[encoded data removed]",
      "text/plain": [
       "<Figure size 432x288 with 1 Axes>"
      ]
     },
     "metadata": {
      "needs_background": "light"
     },
     "output_type": "display_data"
    }
   ],
   "source": [
    "sns.barplot(dataset[\"FBP\"],y)"
   ]
  },
  {
   "cell_type": "markdown",
   "id": "4476a221",
   "metadata": {},
   "source": [
    "Nothing extraordinary here"
   ]
  },
  {
   "cell_type": "markdown",
   "id": "8613fcd4",
   "metadata": {},
   "source": [
    "## Analysing the RestECG feature"
   ]
  },
  {
   "cell_type": "code",
   "execution_count": 117,
   "id": "e0fe41d8",
   "metadata": {},
   "outputs": [
    {
     "data": {
      "text/plain": [
       "array([0, 1, 2], dtype=int64)"
      ]
     },
     "execution_count": 117,
     "metadata": {},
     "output_type": "execute_result"
    }
   ],
   "source": [
    "dataset[\"RestECG\"].unique()"
   ]
  },
  {
   "cell_type": "code",
   "execution_count": 118,
   "id": "72024f0f",
   "metadata": {},
   "outputs": [
    {
     "data": {
      "text/plain": [
       "<AxesSubplot:xlabel='RestECG', ylabel='Result'>"
      ]
     },
     "execution_count": 118,
     "metadata": {},
     "output_type": "execute_result"
    },
    {
     "data": {
      "image/png": "[encoded data removed]",
      "text/plain": [
       "<Figure size 432x288 with 1 Axes>"
      ]
     },
     "metadata": {
      "needs_background": "light"
     },
     "output_type": "display_data"
    }
   ],
   "source": [
    "sns.barplot(dataset[\"RestECG\"],y)"
   ]
  },
  {
   "cell_type": "markdown",
   "id": "202092ce",
   "metadata": {},
   "source": [
    "#### We realize that people with RestECG '1' and '0' are much more likely to have a heart disease than with RestECG '2'\n",
    "## Analysing the 'ExAngina' feature"
   ]
  },
  {
   "cell_type": "code",
   "execution_count": 119,
   "id": "db7a74c6",
   "metadata": {},
   "outputs": [
    {
     "data": {
      "text/plain": [
       "array([0, 1], dtype=int64)"
      ]
     },
     "execution_count": 119,
     "metadata": {},
     "output_type": "execute_result"
    }
   ],
   "source": [
    "dataset[\"ExAngina\"].unique()"
   ]
  },
  {
   "cell_type": "code",
   "execution_count": 120,
   "id": "04c84776",
   "metadata": {},
   "outputs": [
    {
     "data": {
      "text/plain": [
       "<AxesSubplot:xlabel='ExAngina', ylabel='Result'>"
      ]
     },
     "execution_count": 120,
     "metadata": {},
     "output_type": "execute_result"
    },
    {
     "data": {
      "image/png": "[encoded data removed]",
      "text/plain": [
       "<Figure size 432x288 with 1 Axes>"
      ]
     },
     "metadata": {
      "needs_background": "light"
     },
     "output_type": "display_data"
    }
   ],
   "source": [
    "sns.barplot(dataset[\"ExAngina\"],y)"
   ]
  },
  {
   "cell_type": "markdown",
   "id": "e3b2c9ed",
   "metadata": {},
   "source": [
    "People with ExAngina=1 i.e. Exercise induced angina are much less likely to have heart problems\n",
    "\n",
    "# Analysing the Slope feature"
   ]
  },
  {
   "cell_type": "code",
   "execution_count": 121,
   "id": "0b40056d",
   "metadata": {},
   "outputs": [
    {
     "data": {
      "text/plain": [
       "array([0, 2, 1], dtype=int64)"
      ]
     },
     "execution_count": 121,
     "metadata": {},
     "output_type": "execute_result"
    }
   ],
   "source": [
    "dataset[\"Slope\"].unique()"
   ]
  },
  {
   "cell_type": "code",
   "execution_count": 122,
   "id": "c2d21bfe",
   "metadata": {},
   "outputs": [
    {
     "data": {
      "text/plain": [
       "<AxesSubplot:xlabel='Slope', ylabel='Result'>"
      ]
     },
     "execution_count": 122,
     "metadata": {},
     "output_type": "execute_result"
    },
    {
     "data": {
      "image/png": "[encoded data removed]",
      "text/plain": [
       "<Figure size 432x288 with 1 Axes>"
      ]
     },
     "metadata": {
      "needs_background": "light"
     },
     "output_type": "display_data"
    }
   ],
   "source": [
    "sns.barplot(dataset[\"Slope\"],y)"
   ]
  },
  {
   "cell_type": "markdown",
   "id": "092a5725",
   "metadata": {},
   "source": [
    "We observe, that Slope '2' causes heart pain much more than Slope '0' and '1'\n",
    "# Analysing the 'ca' feature"
   ]
  },
  {
   "cell_type": "code",
   "execution_count": 123,
   "id": "feeb4789",
   "metadata": {},
   "outputs": [
    {
     "data": {
      "text/plain": [
       "array([0, 2, 1, 3, 4], dtype=int64)"
      ]
     },
     "execution_count": 123,
     "metadata": {},
     "output_type": "execute_result"
    }
   ],
   "source": [
    "#number of major vessels (0-3) colored by flourosopy\n",
    "dataset[\"CA\"].unique()"
   ]
  },
  {
   "cell_type": "code",
   "execution_count": 124,
   "id": "1bc1f9ed",
   "metadata": {},
   "outputs": [
    {
     "data": {
      "text/plain": [
       "<AxesSubplot:xlabel='CA', ylabel='count'>"
      ]
     },
     "execution_count": 124,
     "metadata": {},
     "output_type": "execute_result"
    },
    {
     "data": {
      "image/png": "[encoded data removed]",
      "text/plain": [
       "<Figure size 432x288 with 1 Axes>"
      ]
     },
     "metadata": {
      "needs_background": "light"
     },
     "output_type": "display_data"
    }
   ],
   "source": [
    "sns.countplot(dataset[\"CA\"])"
   ]
  },
  {
   "cell_type": "code",
   "execution_count": 125,
   "id": "b9c239d2",
   "metadata": {},
   "outputs": [
    {
     "data": {
      "text/plain": [
       "<AxesSubplot:xlabel='CA', ylabel='Result'>"
      ]
     },
     "execution_count": 125,
     "metadata": {},
     "output_type": "execute_result"
    },
    {
     "data": {
      "image/png": "[encoded data removed]",
      "text/plain": [
       "<Figure size 432x288 with 1 Axes>"
      ]
     },
     "metadata": {
      "needs_background": "light"
     },
     "output_type": "display_data"
    }
   ],
   "source": [
    "sns.barplot(dataset[\"CA\"],y)"
   ]
  },
  {
   "cell_type": "markdown",
   "id": "a59cda37",
   "metadata": {},
   "source": [
    "ca=4 has astonishingly large number of heart patients"
   ]
  },
  {
   "cell_type": "markdown",
   "id": "7c602036",
   "metadata": {},
   "source": [
    "### Analysing the 'thal' feature"
   ]
  },
  {
   "cell_type": "code",
   "execution_count": 126,
   "id": "0273df49",
   "metadata": {},
   "outputs": [
    {
     "data": {
      "text/plain": [
       "array([1, 2, 3, 0], dtype=int64)"
      ]
     },
     "execution_count": 126,
     "metadata": {},
     "output_type": "execute_result"
    }
   ],
   "source": [
    "dataset[\"Thal\"].unique()"
   ]
  },
  {
   "cell_type": "code",
   "execution_count": 127,
   "id": "2147a59c",
   "metadata": {},
   "outputs": [
    {
     "data": {
      "text/plain": [
       "<AxesSubplot:xlabel='Thal', ylabel='Result'>"
      ]
     },
     "execution_count": 127,
     "metadata": {},
     "output_type": "execute_result"
    },
    {
     "data": {
      "image/png": "[encoded data removed]",
      "text/plain": [
       "<Figure size 432x288 with 1 Axes>"
      ]
     },
     "metadata": {
      "needs_background": "light"
     },
     "output_type": "display_data"
    }
   ],
   "source": [
    "sns.barplot(dataset[\"Thal\"],y)"
   ]
  },
  {
   "cell_type": "code",
   "execution_count": 128,
   "id": "01e37cb9",
   "metadata": {},
   "outputs": [
    {
     "data": {
      "text/plain": [
       "<AxesSubplot:xlabel='Thal', ylabel='Density'>"
      ]
     },
     "execution_count": 128,
     "metadata": {},
     "output_type": "execute_result"
    },
    {
     "data": {
      "image/png": "[encoded data removed]",
      "text/plain": [
       "<Figure size 432x288 with 1 Axes>"
      ]
     },
     "metadata": {
      "needs_background": "light"
     },
     "output_type": "display_data"
    }
   ],
   "source": [
    "sns.distplot(dataset[\"Thal\"])"
   ]
  },
  {
   "cell_type": "markdown",
   "id": "ad46f68e",
   "metadata": {},
   "source": [
    "# Train Test split"
   ]
  },
  {
   "cell_type": "code",
   "execution_count": 129,
   "id": "07e76faa",
   "metadata": {},
   "outputs": [],
   "source": [
    "from sklearn.model_selection import train_test_split\n",
    "\n",
    "predictors = dataset.drop(\"Result\",axis=1)\n",
    "target = dataset[\"Result\"]\n",
    "\n",
    "X_train,X_test,Y_train,Y_test = train_test_split(predictors,target,test_size=0.20,random_state=0)"
   ]
  },
  {
   "cell_type": "code",
   "execution_count": 130,
   "id": "617322fd",
   "metadata": {},
   "outputs": [
    {
     "data": {
      "text/plain": [
       "(242, 13)"
      ]
     },
     "execution_count": 130,
     "metadata": {},
     "output_type": "execute_result"
    }
   ],
   "source": [
    "X_train.shape"
   ]
  },
  {
   "cell_type": "code",
   "execution_count": 131,
   "id": "d0deb6e3",
   "metadata": {},
   "outputs": [
    {
     "data": {
      "text/plain": [
       "(61, 13)"
      ]
     },
     "execution_count": 131,
     "metadata": {},
     "output_type": "execute_result"
    }
   ],
   "source": [
    "X_test.shape"
   ]
  },
  {
   "cell_type": "code",
   "execution_count": 132,
   "id": "505ea888",
   "metadata": {},
   "outputs": [
    {
     "data": {
      "text/plain": [
       "(242,)"
      ]
     },
     "execution_count": 132,
     "metadata": {},
     "output_type": "execute_result"
    }
   ],
   "source": [
    "Y_train.shape"
   ]
  },
  {
   "cell_type": "code",
   "execution_count": 133,
   "id": "acada830",
   "metadata": {},
   "outputs": [
    {
     "data": {
      "text/plain": [
       "(61,)"
      ]
     },
     "execution_count": 133,
     "metadata": {},
     "output_type": "execute_result"
    }
   ],
   "source": [
    "Y_test.shape"
   ]
  },
  {
   "cell_type": "markdown",
   "id": "4dceed23",
   "metadata": {},
   "source": [
    "# Model Fitting"
   ]
  },
  {
   "cell_type": "code",
   "execution_count": 134,
   "id": "ee60c3a6",
   "metadata": {},
   "outputs": [],
   "source": [
    "from sklearn.metrics import accuracy_score"
   ]
  },
  {
   "cell_type": "markdown",
   "id": "2861b503",
   "metadata": {},
   "source": [
    "## Logistic Regression"
   ]
  },
  {
   "cell_type": "code",
   "execution_count": 135,
   "id": "2d31bfc6",
   "metadata": {},
   "outputs": [],
   "source": [
    "from sklearn.linear_model import LogisticRegression\n",
    "\n",
    "lr = LogisticRegression()\n",
    "\n",
    "lr.fit(X_train,Y_train)\n",
    "\n",
    "Y_pred_lr = lr.predict(X_test)"
   ]
  },
  {
   "cell_type": "code",
   "execution_count": 136,
   "id": "4fb12522",
   "metadata": {},
   "outputs": [
    {
     "data": {
      "text/plain": [
       "(61,)"
      ]
     },
     "execution_count": 136,
     "metadata": {},
     "output_type": "execute_result"
    }
   ],
   "source": [
    "Y_pred_lr.shape"
   ]
  },
  {
   "cell_type": "code",
   "execution_count": 137,
   "id": "87325bda",
   "metadata": {},
   "outputs": [
    {
     "name": "stdout",
     "output_type": "stream",
     "text": [
      "The accuracy score achieved using Logistic Regression is: 85.25 %\n"
     ]
    }
   ],
   "source": [
    "score_lr = round(accuracy_score(Y_pred_lr,Y_test)*100,2)\n",
    "\n",
    "print(\"The accuracy score achieved using Logistic Regression is: \"+str(score_lr)+\" %\")"
   ]
  },
  {
   "cell_type": "markdown",
   "id": "2d1be668",
   "metadata": {},
   "source": [
    "## Naive Bayes"
   ]
  },
  {
   "cell_type": "code",
   "execution_count": 138,
   "id": "dae6124f",
   "metadata": {},
   "outputs": [],
   "source": [
    "from sklearn.naive_bayes import GaussianNB\n",
    "\n",
    "nb = GaussianNB()\n",
    "\n",
    "nb.fit(X_train,Y_train)\n",
    "\n",
    "Y_pred_nb = nb.predict(X_test)"
   ]
  },
  {
   "cell_type": "code",
   "execution_count": 139,
   "id": "49e7f092",
   "metadata": {},
   "outputs": [
    {
     "data": {
      "text/plain": [
       "(61,)"
      ]
     },
     "execution_count": 139,
     "metadata": {},
     "output_type": "execute_result"
    }
   ],
   "source": [
    "Y_pred_nb.shape"
   ]
  },
  {
   "cell_type": "code",
   "execution_count": 140,
   "id": "782dd423",
   "metadata": {},
   "outputs": [
    {
     "name": "stdout",
     "output_type": "stream",
     "text": [
      "The accuracy score achieved using Naive Bayes is: 85.25 %\n"
     ]
    }
   ],
   "source": [
    "score_nb = round(accuracy_score(Y_pred_nb,Y_test)*100,2)\n",
    "\n",
    "print(\"The accuracy score achieved using Naive Bayes is: \"+str(score_nb)+\" %\")"
   ]
  },
  {
   "cell_type": "markdown",
   "id": "31c27b53",
   "metadata": {},
   "source": [
    "## SVM"
   ]
  },
  {
   "cell_type": "code",
   "execution_count": 141,
   "id": "0450f41c",
   "metadata": {},
   "outputs": [],
   "source": [
    "from sklearn import svm\n",
    "\n",
    "sv = svm.SVC(kernel='linear')\n",
    "\n",
    "sv.fit(X_train, Y_train)\n",
    "\n",
    "Y_pred_svm = sv.predict(X_test)"
   ]
  },
  {
   "cell_type": "code",
   "execution_count": 142,
   "id": "cd157c82",
   "metadata": {},
   "outputs": [
    {
     "data": {
      "text/plain": [
       "(61,)"
      ]
     },
     "execution_count": 142,
     "metadata": {},
     "output_type": "execute_result"
    }
   ],
   "source": [
    "Y_pred_svm.shape"
   ]
  },
  {
   "cell_type": "code",
   "execution_count": 143,
   "id": "7e284114",
   "metadata": {},
   "outputs": [
    {
     "name": "stdout",
     "output_type": "stream",
     "text": [
      "The accuracy score achieved using Linear SVM is: 81.97 %\n"
     ]
    }
   ],
   "source": [
    "score_svm = round(accuracy_score(Y_pred_svm,Y_test)*100,2)\n",
    "\n",
    "print(\"The accuracy score achieved using Linear SVM is: \"+str(score_svm)+\" %\")"
   ]
  },
  {
   "cell_type": "markdown",
   "id": "8797a9d2",
   "metadata": {},
   "source": [
    "## K Nearest Neighbors"
   ]
  },
  {
   "cell_type": "code",
   "execution_count": 144,
   "id": "cae80690",
   "metadata": {},
   "outputs": [],
   "source": [
    "from sklearn.neighbors import KNeighborsClassifier\n",
    "\n",
    "knn = KNeighborsClassifier(n_neighbors=7)\n",
    "knn.fit(X_train,Y_train)\n",
    "Y_pred_knn=knn.predict(X_test)"
   ]
  },
  {
   "cell_type": "code",
   "execution_count": 145,
   "id": "8e69f8df",
   "metadata": {},
   "outputs": [
    {
     "data": {
      "text/plain": [
       "(61,)"
      ]
     },
     "execution_count": 145,
     "metadata": {},
     "output_type": "execute_result"
    }
   ],
   "source": [
    "Y_pred_knn.shape"
   ]
  },
  {
   "cell_type": "code",
   "execution_count": 146,
   "id": "b3b0739b",
   "metadata": {},
   "outputs": [
    {
     "name": "stdout",
     "output_type": "stream",
     "text": [
      "The accuracy score achieved using KNN is: 67.21 %\n"
     ]
    }
   ],
   "source": [
    "score_knn = round(accuracy_score(Y_pred_knn,Y_test)*100,2)\n",
    "\n",
    "print(\"The accuracy score achieved using KNN is: \"+str(score_knn)+\" %\")"
   ]
  },
  {
   "cell_type": "markdown",
   "id": "e349bee4",
   "metadata": {},
   "source": [
    "## Decision Tree"
   ]
  },
  {
   "cell_type": "code",
   "execution_count": 147,
   "id": "d34a0424",
   "metadata": {},
   "outputs": [],
   "source": [
    "from sklearn.tree import DecisionTreeClassifier\n",
    "\n",
    "max_accuracy = 0\n",
    "\n",
    "\n",
    "for x in range(200):\n",
    "    dt = DecisionTreeClassifier(random_state=x)\n",
    "    dt.fit(X_train,Y_train)\n",
    "    Y_pred_dt = dt.predict(X_test)\n",
    "    current_accuracy = round(accuracy_score(Y_pred_dt,Y_test)*100,2)\n",
    "    if(current_accuracy>max_accuracy):\n",
    "        max_accuracy = current_accuracy\n",
    "        best_x = x\n",
    "        \n",
    "#print(max_accuracy)\n",
    "#print(best_x)\n",
    "\n",
    "\n",
    "dt = DecisionTreeClassifier(random_state=best_x)\n",
    "dt.fit(X_train,Y_train)\n",
    "Y_pred_dt = dt.predict(X_test)"
   ]
  },
  {
   "cell_type": "code",
   "execution_count": 148,
   "id": "e70999d3",
   "metadata": {},
   "outputs": [
    {
     "name": "stdout",
     "output_type": "stream",
     "text": [
      "(61,)\n"
     ]
    }
   ],
   "source": [
    "print(Y_pred_dt.shape)"
   ]
  },
  {
   "cell_type": "code",
   "execution_count": 149,
   "id": "bb37a225",
   "metadata": {},
   "outputs": [
    {
     "name": "stdout",
     "output_type": "stream",
     "text": [
      "The accuracy score achieved using Decision Tree is: 81.97 %\n"
     ]
    }
   ],
   "source": [
    "score_dt = round(accuracy_score(Y_pred_dt,Y_test)*100,2)\n",
    "\n",
    "print(\"The accuracy score achieved using Decision Tree is: \"+str(score_dt)+\" %\")"
   ]
  },
  {
   "cell_type": "markdown",
   "id": "2f4b3180",
   "metadata": {},
   "source": [
    "## Random Forest"
   ]
  },
  {
   "cell_type": "code",
   "execution_count": 150,
   "id": "dd068aab",
   "metadata": {},
   "outputs": [],
   "source": [
    "from sklearn.ensemble import RandomForestClassifier\n",
    "\n",
    "max_accuracy = 0\n",
    "\n",
    "\n",
    "for x in range(2000):\n",
    "    rf = RandomForestClassifier(random_state=x)\n",
    "    rf.fit(X_train,Y_train)\n",
    "    Y_pred_rf = rf.predict(X_test)\n",
    "    current_accuracy = round(accuracy_score(Y_pred_rf,Y_test)*100,2)\n",
    "    if(current_accuracy>max_accuracy):\n",
    "        max_accuracy = current_accuracy\n",
    "        best_x = x\n",
    "        \n",
    "#print(max_accuracy)\n",
    "#print(best_x)\n",
    "\n",
    "rf = RandomForestClassifier(random_state=best_x)\n",
    "rf.fit(X_train,Y_train)\n",
    "Y_pred_rf = rf.predict(X_test)"
   ]
  },
  {
   "cell_type": "code",
   "execution_count": 151,
   "id": "3ddfcf4d",
   "metadata": {},
   "outputs": [
    {
     "data": {
      "text/plain": [
       "(61,)"
      ]
     },
     "execution_count": 151,
     "metadata": {},
     "output_type": "execute_result"
    }
   ],
   "source": [
    "Y_pred_rf.shape"
   ]
  },
  {
   "cell_type": "code",
   "execution_count": 152,
   "id": "fd786409",
   "metadata": {},
   "outputs": [
    {
     "name": "stdout",
     "output_type": "stream",
     "text": [
      "The accuracy score achieved using Decision Tree is: 90.16 %\n"
     ]
    }
   ],
   "source": [
    "score_rf = round(accuracy_score(Y_pred_rf,Y_test)*100,2)\n",
    "\n",
    "print(\"The accuracy score achieved using Decision Tree is: \"+str(score_rf)+\" %\")"
   ]
  },
  {
   "cell_type": "markdown",
   "id": "b218b8ac",
   "metadata": {},
   "source": [
    "## XGBoost"
   ]
  },
  {
   "cell_type": "code",
   "execution_count": 153,
   "id": "0d17aff0",
   "metadata": {},
   "outputs": [
    {
     "name": "stdout",
     "output_type": "stream",
     "text": [
      "[02:18:36] WARNING: ..\\src\\learner.cc:1095: Starting in XGBoost 1.3.0, the default evaluation metric used with the objective 'binary:logistic' was changed from 'error' to 'logloss'. Explicitly set eval_metric if you'd like to restore the old behavior.\n"
     ]
    }
   ],
   "source": [
    "import xgboost as xgb\n",
    "\n",
    "xgb_model = xgb.XGBClassifier(objective=\"binary:logistic\", random_state=42)\n",
    "xgb_model.fit(X_train, Y_train)\n",
    "\n",
    "Y_pred_xgb = xgb_model.predict(X_test)"
   ]
  },
  {
   "cell_type": "code",
   "execution_count": 154,
   "id": "385869ee",
   "metadata": {},
   "outputs": [
    {
     "data": {
      "text/plain": [
       "(61,)"
      ]
     },
     "execution_count": 154,
     "metadata": {},
     "output_type": "execute_result"
    }
   ],
   "source": [
    "Y_pred_xgb.shape"
   ]
  },
  {
   "cell_type": "code",
   "execution_count": 155,
   "id": "8b0d41ad",
   "metadata": {},
   "outputs": [
    {
     "name": "stdout",
     "output_type": "stream",
     "text": [
      "The accuracy score achieved using XGBoost is: 78.69 %\n"
     ]
    }
   ],
   "source": [
    "score_xgb = round(accuracy_score(Y_pred_xgb,Y_test)*100,2)\n",
    "\n",
    "print(\"The accuracy score achieved using XGBoost is: \"+str(score_xgb)+\" %\")"
   ]
  },
  {
   "cell_type": "markdown",
   "id": "2e1539a7",
   "metadata": {},
   "source": [
    "## Neural Network"
   ]
  },
  {
   "cell_type": "code",
   "execution_count": 156,
   "id": "acf544eb",
   "metadata": {},
   "outputs": [],
   "source": [
    "from keras.models import Sequential\n",
    "from keras.layers import Dense"
   ]
  },
  {
   "cell_type": "code",
   "execution_count": 157,
   "id": "a4fe683d",
   "metadata": {},
   "outputs": [],
   "source": [
    "# https://stats.stackexchange.com/a/136542 helped a lot in avoiding overfitting\n",
    "\n",
    "model = Sequential()\n",
    "model.add(Dense(11,activation='relu',input_dim=13))\n",
    "model.add(Dense(1,activation='sigmoid'))\n",
    "\n",
    "model.compile(loss='binary_crossentropy',optimizer='adam',metrics=['accuracy'])"
   ]
  },
  {
   "cell_type": "code",
   "execution_count": 158,
   "id": "b10b8ed7",
   "metadata": {},
   "outputs": [
    {
     "name": "stdout",
     "output_type": "stream",
     "text": [
      "Epoch 1/300\n",
      "8/8 [==============================] - 0s 26ms/step - loss: 15.1633 - accuracy: 0.5248\n",
      "Epoch 2/300\n",
      "8/8 [==============================] - 0s 2ms/step - loss: 12.8223 - accuracy: 0.5083\n",
      "Epoch 3/300\n",
      "8/8 [==============================] - 0s 2ms/step - loss: 10.9807 - accuracy: 0.4793\n",
      "Epoch 4/300\n",
      "8/8 [==============================] - 0s 2ms/step - loss: 9.4370 - accuracy: 0.4752\n",
      "Epoch 5/300\n",
      "8/8 [==============================] - 0s 26ms/step - loss: 8.3390 - accuracy: 0.4504\n",
      "Epoch 6/300\n",
      "8/8 [==============================] - 0s 2ms/step - loss: 7.4571 - accuracy: 0.4504\n",
      "Epoch 7/300\n",
      "8/8 [==============================] - 0s 2ms/step - loss: 6.6121 - accuracy: 0.4504\n",
      "Epoch 8/300\n",
      "8/8 [==============================] - 0s 2ms/step - loss: 5.6485 - accuracy: 0.4545\n",
      "Epoch 9/300\n",
      "8/8 [==============================] - 0s 2ms/step - loss: 4.7522 - accuracy: 0.4504\n",
      "Epoch 10/300\n",
      "8/8 [==============================] - 0s 10ms/step - loss: 4.0674 - accuracy: 0.4298\n",
      "Epoch 11/300\n",
      "8/8 [==============================] - 0s 2ms/step - loss: 3.5632 - accuracy: 0.4050\n",
      "Epoch 12/300\n",
      "8/8 [==============================] - 0s 2ms/step - loss: 3.2312 - accuracy: 0.3926\n",
      "Epoch 13/300\n",
      "8/8 [==============================] - 0s 5ms/step - loss: 2.9860 - accuracy: 0.4298\n",
      "Epoch 14/300\n",
      "8/8 [==============================] - 0s 2ms/step - loss: 2.7535 - accuracy: 0.4339\n",
      "Epoch 15/300\n",
      "8/8 [==============================] - 0s 2ms/step - loss: 2.4924 - accuracy: 0.4380\n",
      "Epoch 16/300\n",
      "8/8 [==============================] - 0s 2ms/step - loss: 2.1970 - accuracy: 0.4380\n",
      "Epoch 17/300\n",
      "8/8 [==============================] - 0s 2ms/step - loss: 1.9015 - accuracy: 0.4421\n",
      "Epoch 18/300\n",
      "8/8 [==============================] - 0s 8ms/step - loss: 1.6271 - accuracy: 0.4380\n",
      "Epoch 19/300\n",
      "8/8 [==============================] - 0s 2ms/step - loss: 1.4230 - accuracy: 0.4463\n",
      "Epoch 20/300\n",
      "8/8 [==============================] - 0s 2ms/step - loss: 1.2531 - accuracy: 0.4380\n",
      "Epoch 21/300\n",
      "8/8 [==============================] - 0s 11ms/step - loss: 1.1114 - accuracy: 0.4421\n",
      "Epoch 22/300\n",
      "8/8 [==============================] - 0s 3ms/step - loss: 1.0195 - accuracy: 0.4587\n",
      "Epoch 23/300\n",
      "8/8 [==============================] - 0s 2ms/step - loss: 0.9585 - accuracy: 0.4545\n",
      "Epoch 24/300\n",
      "8/8 [==============================] - 0s 4ms/step - loss: 0.9119 - accuracy: 0.4504\n",
      "Epoch 25/300\n",
      "8/8 [==============================] - 0s 3ms/step - loss: 0.8668 - accuracy: 0.4587\n",
      "Epoch 26/300\n",
      "8/8 [==============================] - 0s 4ms/step - loss: 0.8440 - accuracy: 0.4959\n",
      "Epoch 27/300\n",
      "8/8 [==============================] - 0s 2ms/step - loss: 0.8247 - accuracy: 0.5289\n",
      "Epoch 28/300\n",
      "8/8 [==============================] - 0s 2ms/step - loss: 0.8070 - accuracy: 0.5331\n",
      "Epoch 29/300\n",
      "8/8 [==============================] - 0s 4ms/step - loss: 0.7937 - accuracy: 0.4793\n",
      "Epoch 30/300\n",
      "8/8 [==============================] - 0s 2ms/step - loss: 0.7783 - accuracy: 0.4587\n",
      "Epoch 31/300\n",
      "8/8 [==============================] - 0s 2ms/step - loss: 0.7676 - accuracy: 0.4835\n",
      "Epoch 32/300\n",
      "8/8 [==============================] - 0s 2ms/step - loss: 0.7542 - accuracy: 0.5331\n",
      "Epoch 33/300\n",
      "8/8 [==============================] - 0s 2ms/step - loss: 0.7458 - accuracy: 0.5372\n",
      "Epoch 34/300\n",
      "8/8 [==============================] - 0s 2ms/step - loss: 0.7366 - accuracy: 0.5372\n",
      "Epoch 35/300\n",
      "8/8 [==============================] - 0s 7ms/step - loss: 0.7311 - accuracy: 0.5372\n",
      "Epoch 36/300\n",
      "8/8 [==============================] - 0s 2ms/step - loss: 0.7281 - accuracy: 0.5372\n",
      "Epoch 37/300\n",
      "8/8 [==============================] - 0s 2ms/step - loss: 0.7230 - accuracy: 0.5372\n",
      "Epoch 38/300\n",
      "8/8 [==============================] - 0s 11ms/step - loss: 0.7191 - accuracy: 0.5372\n",
      "Epoch 39/300\n",
      "8/8 [==============================] - 0s 2ms/step - loss: 0.7148 - accuracy: 0.5372\n",
      "Epoch 40/300\n",
      "8/8 [==============================] - 0s 2ms/step - loss: 0.7129 - accuracy: 0.5372\n",
      "Epoch 41/300\n",
      "8/8 [==============================] - 0s 8ms/step - loss: 0.7108 - accuracy: 0.5372\n",
      "Epoch 42/300\n",
      "8/8 [==============================] - 0s 3ms/step - loss: 0.7083 - accuracy: 0.5372\n",
      "Epoch 43/300\n",
      "8/8 [==============================] - 0s 5ms/step - loss: 0.7071 - accuracy: 0.5372\n",
      "Epoch 44/300\n",
      "8/8 [==============================] - 0s 2ms/step - loss: 0.7063 - accuracy: 0.5372\n",
      "Epoch 45/300\n",
      "8/8 [==============================] - 0s 2ms/step - loss: 0.7053 - accuracy: 0.5372\n",
      "Epoch 46/300\n",
      "8/8 [==============================] - 0s 3ms/step - loss: 0.7052 - accuracy: 0.5372\n",
      "Epoch 47/300\n",
      "8/8 [==============================] - 0s 2ms/step - loss: 0.7034 - accuracy: 0.5372\n",
      "Epoch 48/300\n",
      "8/8 [==============================] - 0s 1ms/step - loss: 0.7038 - accuracy: 0.5372\n",
      "Epoch 49/300\n",
      "8/8 [==============================] - 0s 7ms/step - loss: 0.7026 - accuracy: 0.5372\n",
      "Epoch 50/300\n",
      "8/8 [==============================] - 0s 2ms/step - loss: 0.7021 - accuracy: 0.5372\n",
      "Epoch 51/300\n",
      "8/8 [==============================] - 0s 2ms/step - loss: 0.7017 - accuracy: 0.5372\n",
      "Epoch 52/300\n",
      "8/8 [==============================] - 0s 2ms/step - loss: 0.7002 - accuracy: 0.5372\n",
      "Epoch 53/300\n",
      "8/8 [==============================] - 0s 3ms/step - loss: 0.6988 - accuracy: 0.5372\n",
      "Epoch 54/300\n",
      "8/8 [==============================] - 0s 6ms/step - loss: 0.6990 - accuracy: 0.5372\n",
      "Epoch 55/300\n",
      "8/8 [==============================] - 0s 2ms/step - loss: 0.6969 - accuracy: 0.5372\n",
      "Epoch 56/300\n",
      "8/8 [==============================] - 0s 2ms/step - loss: 0.6967 - accuracy: 0.5372\n",
      "Epoch 57/300\n",
      "8/8 [==============================] - 0s 2ms/step - loss: 0.6943 - accuracy: 0.5372\n",
      "Epoch 58/300\n",
      "8/8 [==============================] - 0s 2ms/step - loss: 0.6938 - accuracy: 0.5372\n",
      "Epoch 59/300\n",
      "8/8 [==============================] - 0s 2ms/step - loss: 0.6928 - accuracy: 0.5372\n",
      "Epoch 60/300\n",
      "8/8 [==============================] - 0s 2ms/step - loss: 0.6920 - accuracy: 0.5372\n",
      "Epoch 61/300\n",
      "8/8 [==============================] - 0s 2ms/step - loss: 0.6916 - accuracy: 0.5372\n",
      "Epoch 62/300\n",
      "8/8 [==============================] - 0s 2ms/step - loss: 0.6912 - accuracy: 0.5372\n",
      "Epoch 63/300\n",
      "8/8 [==============================] - 0s 2ms/step - loss: 0.6904 - accuracy: 0.5372\n",
      "Epoch 64/300\n",
      "8/8 [==============================] - 0s 3ms/step - loss: 0.6905 - accuracy: 0.5372\n",
      "Epoch 65/300\n",
      "8/8 [==============================] - 0s 2ms/step - loss: 0.6886 - accuracy: 0.5372\n",
      "Epoch 66/300\n",
      "8/8 [==============================] - 0s 2ms/step - loss: 0.6878 - accuracy: 0.5372\n",
      "Epoch 67/300\n",
      "8/8 [==============================] - 0s 2ms/step - loss: 0.6873 - accuracy: 0.5413\n",
      "Epoch 68/300\n",
      "8/8 [==============================] - 0s 3ms/step - loss: 0.6875 - accuracy: 0.5413\n",
      "Epoch 69/300\n",
      "8/8 [==============================] - 0s 9ms/step - loss: 0.6888 - accuracy: 0.5413\n",
      "Epoch 70/300\n",
      "8/8 [==============================] - ETA: 0s - loss: 0.6639 - accuracy: 0.59 - 0s 2ms/step - loss: 0.6867 - accuracy: 0.5413\n",
      "Epoch 71/300\n",
      "8/8 [==============================] - 0s 2ms/step - loss: 0.6870 - accuracy: 0.5413\n",
      "Epoch 72/300\n",
      "8/8 [==============================] - 0s 3ms/step - loss: 0.6864 - accuracy: 0.5413\n",
      "Epoch 73/300\n",
      "8/8 [==============================] - 0s 2ms/step - loss: 0.6872 - accuracy: 0.5413\n",
      "Epoch 74/300\n",
      "8/8 [==============================] - 0s 2ms/step - loss: 0.6864 - accuracy: 0.5413\n",
      "Epoch 75/300\n",
      "8/8 [==============================] - 0s 2ms/step - loss: 0.6869 - accuracy: 0.5413\n",
      "Epoch 76/300\n",
      "8/8 [==============================] - 0s 2ms/step - loss: 0.6857 - accuracy: 0.5413\n",
      "Epoch 77/300\n",
      "8/8 [==============================] - ETA: 0s - loss: 0.6967 - accuracy: 0.50 - 0s 3ms/step - loss: 0.6855 - accuracy: 0.5413\n",
      "Epoch 78/300\n",
      "8/8 [==============================] - 0s 2ms/step - loss: 0.6858 - accuracy: 0.5413\n",
      "Epoch 79/300\n",
      "8/8 [==============================] - 0s 2ms/step - loss: 0.6857 - accuracy: 0.5413\n",
      "Epoch 80/300\n",
      "8/8 [==============================] - 0s 2ms/step - loss: 0.6863 - accuracy: 0.5413\n",
      "Epoch 81/300\n",
      "8/8 [==============================] - 0s 4ms/step - loss: 0.6859 - accuracy: 0.5413\n",
      "Epoch 82/300\n",
      "8/8 [==============================] - 0s 2ms/step - loss: 0.6847 - accuracy: 0.5413\n",
      "Epoch 83/300\n"
     ]
    },
    {
     "name": "stdout",
     "output_type": "stream",
     "text": [
      "8/8 [==============================] - 0s 1ms/step - loss: 0.6893 - accuracy: 0.5413\n",
      "Epoch 84/300\n",
      "8/8 [==============================] - 0s 2ms/step - loss: 0.6852 - accuracy: 0.5413\n",
      "Epoch 85/300\n",
      "8/8 [==============================] - 0s 2ms/step - loss: 0.6851 - accuracy: 0.5413\n",
      "Epoch 86/300\n",
      "8/8 [==============================] - 0s 2ms/step - loss: 0.6885 - accuracy: 0.5413\n",
      "Epoch 87/300\n",
      "8/8 [==============================] - 0s 2ms/step - loss: 0.6857 - accuracy: 0.5413\n",
      "Epoch 88/300\n",
      "8/8 [==============================] - 0s 2ms/step - loss: 0.6870 - accuracy: 0.5413\n",
      "Epoch 89/300\n",
      "8/8 [==============================] - ETA: 0s - loss: 0.6938 - accuracy: 0.50 - 0s 2ms/step - loss: 0.6868 - accuracy: 0.5413\n",
      "Epoch 90/300\n",
      "8/8 [==============================] - 0s 2ms/step - loss: 0.6866 - accuracy: 0.5413\n",
      "Epoch 91/300\n",
      "8/8 [==============================] - 0s 2ms/step - loss: 0.6856 - accuracy: 0.5413\n",
      "Epoch 92/300\n",
      "8/8 [==============================] - 0s 2ms/step - loss: 0.6869 - accuracy: 0.5413\n",
      "Epoch 93/300\n",
      "8/8 [==============================] - ETA: 0s - loss: 0.6949 - accuracy: 0.50 - 0s 4ms/step - loss: 0.6852 - accuracy: 0.5413\n",
      "Epoch 94/300\n",
      "8/8 [==============================] - 0s 2ms/step - loss: 0.6854 - accuracy: 0.5413\n",
      "Epoch 95/300\n",
      "8/8 [==============================] - 0s 2ms/step - loss: 0.6858 - accuracy: 0.5413\n",
      "Epoch 96/300\n",
      "8/8 [==============================] - 0s 3ms/step - loss: 0.6858 - accuracy: 0.5413\n",
      "Epoch 97/300\n",
      "8/8 [==============================] - 0s 2ms/step - loss: 0.6859 - accuracy: 0.5413\n",
      "Epoch 98/300\n",
      "8/8 [==============================] - 0s 2ms/step - loss: 0.6856 - accuracy: 0.5413\n",
      "Epoch 99/300\n",
      "8/8 [==============================] - 0s 2ms/step - loss: 0.6872 - accuracy: 0.5413\n",
      "Epoch 100/300\n",
      "8/8 [==============================] - 0s 2ms/step - loss: 0.6866 - accuracy: 0.5413\n",
      "Epoch 101/300\n",
      "8/8 [==============================] - 0s 1ms/step - loss: 0.6855 - accuracy: 0.5413\n",
      "Epoch 102/300\n",
      "8/8 [==============================] - 0s 3ms/step - loss: 0.6854 - accuracy: 0.5413\n",
      "Epoch 103/300\n",
      "8/8 [==============================] - 0s 2ms/step - loss: 0.6856 - accuracy: 0.5413\n",
      "Epoch 104/300\n",
      "8/8 [==============================] - 0s 2ms/step - loss: 0.6858 - accuracy: 0.5413\n",
      "Epoch 105/300\n",
      "8/8 [==============================] - 0s 1ms/step - loss: 0.6863 - accuracy: 0.5413\n",
      "Epoch 106/300\n",
      "8/8 [==============================] - 0s 3ms/step - loss: 0.6876 - accuracy: 0.5413\n",
      "Epoch 107/300\n",
      "8/8 [==============================] - 0s 3ms/step - loss: 0.6853 - accuracy: 0.5413\n",
      "Epoch 108/300\n",
      "8/8 [==============================] - 0s 2ms/step - loss: 0.6871 - accuracy: 0.5413\n",
      "Epoch 109/300\n",
      "8/8 [==============================] - 0s 2ms/step - loss: 0.6864 - accuracy: 0.5413\n",
      "Epoch 110/300\n",
      "8/8 [==============================] - 0s 2ms/step - loss: 0.6876 - accuracy: 0.5413\n",
      "Epoch 111/300\n",
      "8/8 [==============================] - 0s 2ms/step - loss: 0.6862 - accuracy: 0.5413\n",
      "Epoch 112/300\n",
      "8/8 [==============================] - 0s 2ms/step - loss: 0.6901 - accuracy: 0.5413\n",
      "Epoch 113/300\n",
      "8/8 [==============================] - 0s 2ms/step - loss: 0.6854 - accuracy: 0.5413\n",
      "Epoch 114/300\n",
      "8/8 [==============================] - 0s 2ms/step - loss: 0.6859 - accuracy: 0.5413\n",
      "Epoch 115/300\n",
      "8/8 [==============================] - 0s 2ms/step - loss: 0.6854 - accuracy: 0.5413\n",
      "Epoch 116/300\n",
      "8/8 [==============================] - 0s 3ms/step - loss: 0.6863 - accuracy: 0.5413\n",
      "Epoch 117/300\n",
      "8/8 [==============================] - 0s 2ms/step - loss: 0.6862 - accuracy: 0.5413\n",
      "Epoch 118/300\n",
      "8/8 [==============================] - 0s 2ms/step - loss: 0.6860 - accuracy: 0.5413\n",
      "Epoch 119/300\n",
      "8/8 [==============================] - 0s 2ms/step - loss: 0.6865 - accuracy: 0.5413\n",
      "Epoch 120/300\n",
      "8/8 [==============================] - 0s 1ms/step - loss: 0.6858 - accuracy: 0.5413\n",
      "Epoch 121/300\n",
      "8/8 [==============================] - 0s 1ms/step - loss: 0.6855 - accuracy: 0.5413\n",
      "Epoch 122/300\n",
      "8/8 [==============================] - 0s 3ms/step - loss: 0.6853 - accuracy: 0.5413\n",
      "Epoch 123/300\n",
      "8/8 [==============================] - ETA: 0s - loss: 0.6689 - accuracy: 0.59 - 0s 2ms/step - loss: 0.6863 - accuracy: 0.5413\n",
      "Epoch 124/300\n",
      "8/8 [==============================] - 0s 3ms/step - loss: 0.6857 - accuracy: 0.5413\n",
      "Epoch 125/300\n",
      "8/8 [==============================] - 0s 1ms/step - loss: 0.6884 - accuracy: 0.5413\n",
      "Epoch 126/300\n",
      "8/8 [==============================] - 0s 2ms/step - loss: 0.6855 - accuracy: 0.5413\n",
      "Epoch 127/300\n",
      "8/8 [==============================] - 0s 2ms/step - loss: 0.6875 - accuracy: 0.5413\n",
      "Epoch 128/300\n",
      "8/8 [==============================] - 0s 1ms/step - loss: 0.6881 - accuracy: 0.5413\n",
      "Epoch 129/300\n",
      "8/8 [==============================] - 0s 2ms/step - loss: 0.6846 - accuracy: 0.5413\n",
      "Epoch 130/300\n",
      "8/8 [==============================] - 0s 2ms/step - loss: 0.6858 - accuracy: 0.5413\n",
      "Epoch 131/300\n",
      "8/8 [==============================] - 0s 2ms/step - loss: 0.6857 - accuracy: 0.5413\n",
      "Epoch 132/300\n",
      "8/8 [==============================] - 0s 2ms/step - loss: 0.6854 - accuracy: 0.5413\n",
      "Epoch 133/300\n",
      "8/8 [==============================] - 0s 1ms/step - loss: 0.6854 - accuracy: 0.5413\n",
      "Epoch 134/300\n",
      "8/8 [==============================] - 0s 2ms/step - loss: 0.6856 - accuracy: 0.5413\n",
      "Epoch 135/300\n",
      "8/8 [==============================] - 0s 1ms/step - loss: 0.6860 - accuracy: 0.5413\n",
      "Epoch 136/300\n",
      "8/8 [==============================] - 0s 11ms/step - loss: 0.6858 - accuracy: 0.5413\n",
      "Epoch 137/300\n",
      "8/8 [==============================] - 0s 2ms/step - loss: 0.6854 - accuracy: 0.5413\n",
      "Epoch 138/300\n",
      "8/8 [==============================] - 0s 3ms/step - loss: 0.6887 - accuracy: 0.5413\n",
      "Epoch 139/300\n",
      "8/8 [==============================] - 0s 6ms/step - loss: 0.6853 - accuracy: 0.5413\n",
      "Epoch 140/300\n",
      "8/8 [==============================] - 0s 2ms/step - loss: 0.6863 - accuracy: 0.5413\n",
      "Epoch 141/300\n",
      "8/8 [==============================] - 0s 3ms/step - loss: 0.6854 - accuracy: 0.5413\n",
      "Epoch 142/300\n",
      "8/8 [==============================] - 0s 1ms/step - loss: 0.6852 - accuracy: 0.5413\n",
      "Epoch 143/300\n",
      "8/8 [==============================] - 0s 1ms/step - loss: 0.6855 - accuracy: 0.5413\n",
      "Epoch 144/300\n",
      "8/8 [==============================] - 0s 2ms/step - loss: 0.6858 - accuracy: 0.5413\n",
      "Epoch 145/300\n",
      "8/8 [==============================] - 0s 1ms/step - loss: 0.6853 - accuracy: 0.5413\n",
      "Epoch 146/300\n",
      "8/8 [==============================] - 0s 2ms/step - loss: 0.6854 - accuracy: 0.5413\n",
      "Epoch 147/300\n",
      "8/8 [==============================] - 0s 3ms/step - loss: 0.6851 - accuracy: 0.5413\n",
      "Epoch 148/300\n",
      "8/8 [==============================] - 0s 2ms/step - loss: 0.6857 - accuracy: 0.5413\n",
      "Epoch 149/300\n",
      "8/8 [==============================] - 0s 2ms/step - loss: 0.6863 - accuracy: 0.5413\n",
      "Epoch 150/300\n",
      "8/8 [==============================] - 0s 3ms/step - loss: 0.6852 - accuracy: 0.5413\n",
      "Epoch 151/300\n",
      "8/8 [==============================] - 0s 3ms/step - loss: 0.6861 - accuracy: 0.5413\n",
      "Epoch 152/300\n",
      "8/8 [==============================] - ETA: 0s - loss: 0.6884 - accuracy: 0.50 - 0s 5ms/step - loss: 0.6859 - accuracy: 0.5413\n",
      "Epoch 153/300\n",
      "8/8 [==============================] - 0s 2ms/step - loss: 0.6853 - accuracy: 0.5413\n",
      "Epoch 154/300\n",
      "8/8 [==============================] - 0s 2ms/step - loss: 0.6855 - accuracy: 0.5413\n",
      "Epoch 155/300\n",
      "8/8 [==============================] - 0s 2ms/step - loss: 0.6860 - accuracy: 0.5413\n",
      "Epoch 156/300\n",
      "8/8 [==============================] - 0s 2ms/step - loss: 0.6857 - accuracy: 0.5413\n",
      "Epoch 157/300\n",
      "8/8 [==============================] - 0s 2ms/step - loss: 0.6874 - accuracy: 0.5413\n",
      "Epoch 158/300\n",
      "8/8 [==============================] - 0s 4ms/step - loss: 0.6851 - accuracy: 0.5413\n",
      "Epoch 159/300\n",
      "8/8 [==============================] - 0s 2ms/step - loss: 0.6850 - accuracy: 0.5413\n",
      "Epoch 160/300\n",
      "8/8 [==============================] - 0s 2ms/step - loss: 0.6863 - accuracy: 0.5413\n",
      "Epoch 161/300\n",
      "8/8 [==============================] - 0s 2ms/step - loss: 0.6854 - accuracy: 0.5413\n",
      "Epoch 162/300\n",
      "8/8 [==============================] - 0s 4ms/step - loss: 0.6860 - accuracy: 0.5413\n",
      "Epoch 163/300\n",
      "8/8 [==============================] - 0s 5ms/step - loss: 0.6882 - accuracy: 0.5413\n",
      "Epoch 164/300\n"
     ]
    },
    {
     "name": "stdout",
     "output_type": "stream",
     "text": [
      "8/8 [==============================] - 0s 2ms/step - loss: 0.6862 - accuracy: 0.5413\n",
      "Epoch 165/300\n",
      "8/8 [==============================] - 0s 2ms/step - loss: 0.6864 - accuracy: 0.5413\n",
      "Epoch 166/300\n",
      "8/8 [==============================] - 0s 2ms/step - loss: 0.6858 - accuracy: 0.5413\n",
      "Epoch 167/300\n",
      "8/8 [==============================] - 0s 2ms/step - loss: 0.6854 - accuracy: 0.5413\n",
      "Epoch 168/300\n",
      "8/8 [==============================] - 0s 4ms/step - loss: 0.6866 - accuracy: 0.5413\n",
      "Epoch 169/300\n",
      "8/8 [==============================] - 0s 2ms/step - loss: 0.6853 - accuracy: 0.5413\n",
      "Epoch 170/300\n",
      "8/8 [==============================] - 0s 2ms/step - loss: 0.6852 - accuracy: 0.5413\n",
      "Epoch 171/300\n",
      "8/8 [==============================] - 0s 2ms/step - loss: 0.6850 - accuracy: 0.5413\n",
      "Epoch 172/300\n",
      "8/8 [==============================] - 0s 2ms/step - loss: 0.6859 - accuracy: 0.5413\n",
      "Epoch 173/300\n",
      "8/8 [==============================] - 0s 2ms/step - loss: 0.6855 - accuracy: 0.5413\n",
      "Epoch 174/300\n",
      "8/8 [==============================] - 0s 2ms/step - loss: 0.6862 - accuracy: 0.5413\n",
      "Epoch 175/300\n",
      "8/8 [==============================] - 0s 2ms/step - loss: 0.6864 - accuracy: 0.5413\n",
      "Epoch 176/300\n",
      "8/8 [==============================] - 0s 2ms/step - loss: 0.6872 - accuracy: 0.5413\n",
      "Epoch 177/300\n",
      "8/8 [==============================] - 0s 2ms/step - loss: 0.6877 - accuracy: 0.5413\n",
      "Epoch 178/300\n",
      "8/8 [==============================] - 0s 2ms/step - loss: 0.6866 - accuracy: 0.5413\n",
      "Epoch 179/300\n",
      "8/8 [==============================] - 0s 2ms/step - loss: 0.6868 - accuracy: 0.5413\n",
      "Epoch 180/300\n",
      "8/8 [==============================] - 0s 2ms/step - loss: 0.6855 - accuracy: 0.5413\n",
      "Epoch 181/300\n",
      "8/8 [==============================] - 0s 2ms/step - loss: 0.6848 - accuracy: 0.5413\n",
      "Epoch 182/300\n",
      "8/8 [==============================] - 0s 1ms/step - loss: 0.6857 - accuracy: 0.5413\n",
      "Epoch 183/300\n",
      "8/8 [==============================] - 0s 2ms/step - loss: 0.6861 - accuracy: 0.5413\n",
      "Epoch 184/300\n",
      "8/8 [==============================] - 0s 2ms/step - loss: 0.6850 - accuracy: 0.5413\n",
      "Epoch 185/300\n",
      "8/8 [==============================] - 0s 1ms/step - loss: 0.6849 - accuracy: 0.5413\n",
      "Epoch 186/300\n",
      "8/8 [==============================] - 0s 2ms/step - loss: 0.6864 - accuracy: 0.5413\n",
      "Epoch 187/300\n",
      "8/8 [==============================] - 0s 1ms/step - loss: 0.6848 - accuracy: 0.5413\n",
      "Epoch 188/300\n",
      "8/8 [==============================] - 0s 2ms/step - loss: 0.6851 - accuracy: 0.5413\n",
      "Epoch 189/300\n",
      "8/8 [==============================] - ETA: 0s - loss: 0.7010 - accuracy: 0.46 - 0s 2ms/step - loss: 0.6854 - accuracy: 0.5413\n",
      "Epoch 190/300\n",
      "8/8 [==============================] - 0s 1ms/step - loss: 0.6848 - accuracy: 0.5413\n",
      "Epoch 191/300\n",
      "8/8 [==============================] - 0s 1ms/step - loss: 0.6852 - accuracy: 0.5413\n",
      "Epoch 192/300\n",
      "8/8 [==============================] - 0s 2ms/step - loss: 0.6853 - accuracy: 0.5413\n",
      "Epoch 193/300\n",
      "8/8 [==============================] - 0s 4ms/step - loss: 0.6853 - accuracy: 0.5413\n",
      "Epoch 194/300\n",
      "8/8 [==============================] - 0s 3ms/step - loss: 0.6843 - accuracy: 0.5413\n",
      "Epoch 195/300\n",
      "8/8 [==============================] - 0s 4ms/step - loss: 0.6851 - accuracy: 0.5413\n",
      "Epoch 196/300\n",
      "8/8 [==============================] - ETA: 0s - loss: 0.6912 - accuracy: 0.50 - 0s 2ms/step - loss: 0.6855 - accuracy: 0.5413\n",
      "Epoch 197/300\n",
      "8/8 [==============================] - ETA: 0s - loss: 0.6601 - accuracy: 0.62 - 0s 4ms/step - loss: 0.6861 - accuracy: 0.5413\n",
      "Epoch 198/300\n",
      "8/8 [==============================] - 0s 2ms/step - loss: 0.6847 - accuracy: 0.5413\n",
      "Epoch 199/300\n",
      "8/8 [==============================] - 0s 3ms/step - loss: 0.6851 - accuracy: 0.5413\n",
      "Epoch 200/300\n",
      "8/8 [==============================] - 0s 3ms/step - loss: 0.6854 - accuracy: 0.5413\n",
      "Epoch 201/300\n",
      "8/8 [==============================] - 0s 3ms/step - loss: 0.6849 - accuracy: 0.5413\n",
      "Epoch 202/300\n",
      "8/8 [==============================] - 0s 2ms/step - loss: 0.6860 - accuracy: 0.5413\n",
      "Epoch 203/300\n",
      "8/8 [==============================] - 0s 2ms/step - loss: 0.6864 - accuracy: 0.5413\n",
      "Epoch 204/300\n",
      "8/8 [==============================] - 0s 2ms/step - loss: 0.6854 - accuracy: 0.5413\n",
      "Epoch 205/300\n",
      "8/8 [==============================] - 0s 2ms/step - loss: 0.6858 - accuracy: 0.5413\n",
      "Epoch 206/300\n",
      "8/8 [==============================] - 0s 1ms/step - loss: 0.6846 - accuracy: 0.5413\n",
      "Epoch 207/300\n",
      "8/8 [==============================] - 0s 1ms/step - loss: 0.6846 - accuracy: 0.5413\n",
      "Epoch 208/300\n",
      "8/8 [==============================] - 0s 2ms/step - loss: 0.6849 - accuracy: 0.5413\n",
      "Epoch 209/300\n",
      "8/8 [==============================] - 0s 2ms/step - loss: 0.6853 - accuracy: 0.5413\n",
      "Epoch 210/300\n",
      "8/8 [==============================] - 0s 2ms/step - loss: 0.6857 - accuracy: 0.5413\n",
      "Epoch 211/300\n",
      "8/8 [==============================] - 0s 3ms/step - loss: 0.6846 - accuracy: 0.5413\n",
      "Epoch 212/300\n",
      "8/8 [==============================] - 0s 2ms/step - loss: 0.6850 - accuracy: 0.5413\n",
      "Epoch 213/300\n",
      "8/8 [==============================] - 0s 4ms/step - loss: 0.6850 - accuracy: 0.5413\n",
      "Epoch 214/300\n",
      "8/8 [==============================] - 0s 3ms/step - loss: 0.6871 - accuracy: 0.5413\n",
      "Epoch 215/300\n",
      "8/8 [==============================] - 0s 4ms/step - loss: 0.6849 - accuracy: 0.5413\n",
      "Epoch 216/300\n",
      "8/8 [==============================] - 0s 3ms/step - loss: 0.6864 - accuracy: 0.5413\n",
      "Epoch 217/300\n",
      "8/8 [==============================] - 0s 2ms/step - loss: 0.6877 - accuracy: 0.5413\n",
      "Epoch 218/300\n",
      "8/8 [==============================] - 0s 3ms/step - loss: 0.6851 - accuracy: 0.5413\n",
      "Epoch 219/300\n",
      "8/8 [==============================] - 0s 3ms/step - loss: 0.6845 - accuracy: 0.5413\n",
      "Epoch 220/300\n",
      "8/8 [==============================] - 0s 3ms/step - loss: 0.6855 - accuracy: 0.5413\n",
      "Epoch 221/300\n",
      "8/8 [==============================] - 0s 2ms/step - loss: 0.6846 - accuracy: 0.5413\n",
      "Epoch 222/300\n",
      "8/8 [==============================] - ETA: 0s - loss: 0.6927 - accuracy: 0.50 - 0s 3ms/step - loss: 0.6843 - accuracy: 0.5413\n",
      "Epoch 223/300\n",
      "8/8 [==============================] - 0s 4ms/step - loss: 0.6844 - accuracy: 0.5413\n",
      "Epoch 224/300\n",
      "8/8 [==============================] - 0s 3ms/step - loss: 0.6850 - accuracy: 0.5413\n",
      "Epoch 225/300\n",
      "8/8 [==============================] - 0s 2ms/step - loss: 0.6866 - accuracy: 0.5413\n",
      "Epoch 226/300\n",
      "8/8 [==============================] - 0s 3ms/step - loss: 0.6840 - accuracy: 0.5413\n",
      "Epoch 227/300\n",
      "8/8 [==============================] - 0s 2ms/step - loss: 0.6867 - accuracy: 0.5413\n",
      "Epoch 228/300\n",
      "8/8 [==============================] - 0s 2ms/step - loss: 0.6852 - accuracy: 0.5413\n",
      "Epoch 229/300\n",
      "8/8 [==============================] - 0s 3ms/step - loss: 0.6851 - accuracy: 0.5413\n",
      "Epoch 230/300\n",
      "8/8 [==============================] - 0s 2ms/step - loss: 0.6845 - accuracy: 0.5413\n",
      "Epoch 231/300\n",
      "8/8 [==============================] - 0s 2ms/step - loss: 0.6844 - accuracy: 0.5413\n",
      "Epoch 232/300\n",
      "8/8 [==============================] - 0s 2ms/step - loss: 0.6849 - accuracy: 0.5413\n",
      "Epoch 233/300\n",
      "8/8 [==============================] - 0s 2ms/step - loss: 0.6848 - accuracy: 0.5413\n",
      "Epoch 234/300\n",
      "8/8 [==============================] - 0s 2ms/step - loss: 0.6850 - accuracy: 0.5413\n",
      "Epoch 235/300\n",
      "8/8 [==============================] - 0s 2ms/step - loss: 0.6844 - accuracy: 0.5413\n",
      "Epoch 236/300\n",
      "8/8 [==============================] - 0s 2ms/step - loss: 0.6869 - accuracy: 0.5413\n",
      "Epoch 237/300\n",
      "8/8 [==============================] - 0s 2ms/step - loss: 0.6844 - accuracy: 0.5413\n",
      "Epoch 238/300\n",
      "8/8 [==============================] - 0s 2ms/step - loss: 0.6871 - accuracy: 0.5413\n",
      "Epoch 239/300\n",
      "8/8 [==============================] - 0s 3ms/step - loss: 0.6845 - accuracy: 0.5413\n",
      "Epoch 240/300\n",
      "8/8 [==============================] - 0s 2ms/step - loss: 0.6888 - accuracy: 0.5413\n",
      "Epoch 241/300\n",
      "8/8 [==============================] - 0s 2ms/step - loss: 0.6838 - accuracy: 0.5413\n",
      "Epoch 242/300\n",
      "8/8 [==============================] - 0s 3ms/step - loss: 0.6844 - accuracy: 0.5413\n",
      "Epoch 243/300\n",
      "8/8 [==============================] - 0s 3ms/step - loss: 0.6854 - accuracy: 0.5413\n",
      "Epoch 244/300\n",
      "8/8 [==============================] - 0s 2ms/step - loss: 0.6848 - accuracy: 0.5413\n",
      "Epoch 245/300\n"
     ]
    },
    {
     "name": "stdout",
     "output_type": "stream",
     "text": [
      "8/8 [==============================] - 0s 2ms/step - loss: 0.6866 - accuracy: 0.5413\n",
      "Epoch 246/300\n",
      "8/8 [==============================] - 0s 2ms/step - loss: 0.6845 - accuracy: 0.5413\n",
      "Epoch 247/300\n",
      "8/8 [==============================] - 0s 3ms/step - loss: 0.6852 - accuracy: 0.5413\n",
      "Epoch 248/300\n",
      "8/8 [==============================] - 0s 2ms/step - loss: 0.6855 - accuracy: 0.5413\n",
      "Epoch 249/300\n",
      "8/8 [==============================] - 0s 5ms/step - loss: 0.6841 - accuracy: 0.5413\n",
      "Epoch 250/300\n",
      "8/8 [==============================] - 0s 3ms/step - loss: 0.6853 - accuracy: 0.5413\n",
      "Epoch 251/300\n",
      "8/8 [==============================] - 0s 2ms/step - loss: 0.6836 - accuracy: 0.5413\n",
      "Epoch 252/300\n",
      "8/8 [==============================] - ETA: 0s - loss: 0.6715 - accuracy: 0.56 - 0s 2ms/step - loss: 0.6836 - accuracy: 0.5413\n",
      "Epoch 253/300\n",
      "8/8 [==============================] - 0s 2ms/step - loss: 0.6844 - accuracy: 0.5413\n",
      "Epoch 254/300\n",
      "8/8 [==============================] - 0s 3ms/step - loss: 0.6836 - accuracy: 0.5413\n",
      "Epoch 255/300\n",
      "8/8 [==============================] - 0s 2ms/step - loss: 0.6849 - accuracy: 0.5413\n",
      "Epoch 256/300\n",
      "8/8 [==============================] - 0s 2ms/step - loss: 0.6833 - accuracy: 0.5413\n",
      "Epoch 257/300\n",
      "8/8 [==============================] - 0s 3ms/step - loss: 0.6844 - accuracy: 0.5413\n",
      "Epoch 258/300\n",
      "8/8 [==============================] - 0s 2ms/step - loss: 0.6840 - accuracy: 0.5413\n",
      "Epoch 259/300\n",
      "8/8 [==============================] - 0s 2ms/step - loss: 0.6848 - accuracy: 0.5413\n",
      "Epoch 260/300\n",
      "8/8 [==============================] - 0s 2ms/step - loss: 0.6835 - accuracy: 0.5413\n",
      "Epoch 261/300\n",
      "8/8 [==============================] - 0s 2ms/step - loss: 0.6833 - accuracy: 0.5413\n",
      "Epoch 262/300\n",
      "8/8 [==============================] - 0s 3ms/step - loss: 0.6844 - accuracy: 0.5413\n",
      "Epoch 263/300\n",
      "8/8 [==============================] - 0s 2ms/step - loss: 0.6835 - accuracy: 0.5413\n",
      "Epoch 264/300\n",
      "8/8 [==============================] - 0s 1ms/step - loss: 0.6836 - accuracy: 0.5413\n",
      "Epoch 265/300\n",
      "8/8 [==============================] - 0s 1ms/step - loss: 0.6833 - accuracy: 0.5413\n",
      "Epoch 266/300\n",
      "8/8 [==============================] - 0s 3ms/step - loss: 0.6833 - accuracy: 0.5413\n",
      "Epoch 267/300\n",
      "8/8 [==============================] - 0s 1ms/step - loss: 0.6837 - accuracy: 0.5413\n",
      "Epoch 268/300\n",
      "8/8 [==============================] - 0s 2ms/step - loss: 0.6831 - accuracy: 0.5413\n",
      "Epoch 269/300\n",
      "8/8 [==============================] - 0s 2ms/step - loss: 0.6834 - accuracy: 0.5413\n",
      "Epoch 270/300\n",
      "8/8 [==============================] - 0s 3ms/step - loss: 0.6847 - accuracy: 0.5413\n",
      "Epoch 271/300\n",
      "8/8 [==============================] - 0s 3ms/step - loss: 0.6835 - accuracy: 0.5413\n",
      "Epoch 272/300\n",
      "8/8 [==============================] - 0s 3ms/step - loss: 0.6835 - accuracy: 0.5413\n",
      "Epoch 273/300\n",
      "8/8 [==============================] - 0s 3ms/step - loss: 0.6823 - accuracy: 0.5413\n",
      "Epoch 274/300\n",
      "8/8 [==============================] - 0s 5ms/step - loss: 0.6834 - accuracy: 0.5413\n",
      "Epoch 275/300\n",
      "8/8 [==============================] - 0s 2ms/step - loss: 0.6831 - accuracy: 0.5413\n",
      "Epoch 276/300\n",
      "8/8 [==============================] - 0s 2ms/step - loss: 0.6826 - accuracy: 0.5413\n",
      "Epoch 277/300\n",
      "8/8 [==============================] - 0s 2ms/step - loss: 0.6869 - accuracy: 0.5413\n",
      "Epoch 278/300\n",
      "8/8 [==============================] - 0s 2ms/step - loss: 0.6833 - accuracy: 0.5413\n",
      "Epoch 279/300\n",
      "8/8 [==============================] - 0s 2ms/step - loss: 0.6825 - accuracy: 0.5413\n",
      "Epoch 280/300\n",
      "8/8 [==============================] - 0s 2ms/step - loss: 0.6829 - accuracy: 0.5413\n",
      "Epoch 281/300\n",
      "8/8 [==============================] - 0s 4ms/step - loss: 0.6853 - accuracy: 0.5413\n",
      "Epoch 282/300\n",
      "8/8 [==============================] - ETA: 0s - loss: 0.6931 - accuracy: 0.53 - 0s 3ms/step - loss: 0.6820 - accuracy: 0.5413\n",
      "Epoch 283/300\n",
      "8/8 [==============================] - 0s 2ms/step - loss: 0.6839 - accuracy: 0.5413\n",
      "Epoch 284/300\n",
      "8/8 [==============================] - 0s 3ms/step - loss: 0.6835 - accuracy: 0.5413\n",
      "Epoch 285/300\n",
      "8/8 [==============================] - 0s 3ms/step - loss: 0.6822 - accuracy: 0.5413\n",
      "Epoch 286/300\n",
      "8/8 [==============================] - 0s 5ms/step - loss: 0.6824 - accuracy: 0.5413\n",
      "Epoch 287/300\n",
      "8/8 [==============================] - 0s 2ms/step - loss: 0.6823 - accuracy: 0.5413\n",
      "Epoch 288/300\n",
      "8/8 [==============================] - 0s 4ms/step - loss: 0.6825 - accuracy: 0.5413\n",
      "Epoch 289/300\n",
      "8/8 [==============================] - 0s 4ms/step - loss: 0.6819 - accuracy: 0.5413\n",
      "Epoch 290/300\n",
      "8/8 [==============================] - 0s 3ms/step - loss: 0.6824 - accuracy: 0.5413\n",
      "Epoch 291/300\n",
      "8/8 [==============================] - ETA: 0s - loss: 0.6749 - accuracy: 0.56 - 0s 3ms/step - loss: 0.6820 - accuracy: 0.5413\n",
      "Epoch 292/300\n",
      "8/8 [==============================] - 0s 3ms/step - loss: 0.6821 - accuracy: 0.5413\n",
      "Epoch 293/300\n",
      "8/8 [==============================] - 0s 4ms/step - loss: 0.6821 - accuracy: 0.5413\n",
      "Epoch 294/300\n",
      "8/8 [==============================] - 0s 2ms/step - loss: 0.6813 - accuracy: 0.5413\n",
      "Epoch 295/300\n",
      "8/8 [==============================] - 0s 2ms/step - loss: 0.6816 - accuracy: 0.5413\n",
      "Epoch 296/300\n",
      "8/8 [==============================] - 0s 3ms/step - loss: 0.6814 - accuracy: 0.5413\n",
      "Epoch 297/300\n",
      "8/8 [==============================] - 0s 2ms/step - loss: 0.6815 - accuracy: 0.5413\n",
      "Epoch 298/300\n",
      "8/8 [==============================] - 0s 5ms/step - loss: 0.6812 - accuracy: 0.5413\n",
      "Epoch 299/300\n",
      "8/8 [==============================] - 0s 4ms/step - loss: 0.6830 - accuracy: 0.5413\n",
      "Epoch 300/300\n",
      "8/8 [==============================] - 0s 3ms/step - loss: 0.6819 - accuracy: 0.5413\n"
     ]
    },
    {
     "data": {
      "text/plain": [
       "<tensorflow.python.keras.callbacks.History at 0x1c337c2a250>"
      ]
     },
     "execution_count": 158,
     "metadata": {},
     "output_type": "execute_result"
    }
   ],
   "source": [
    "model.fit(X_train,Y_train,epochs=300)"
   ]
  },
  {
   "cell_type": "code",
   "execution_count": 159,
   "id": "67b639f2",
   "metadata": {},
   "outputs": [],
   "source": [
    "Y_pred_nn = model.predict(X_test)"
   ]
  },
  {
   "cell_type": "code",
   "execution_count": 160,
   "id": "d5d575eb",
   "metadata": {},
   "outputs": [
    {
     "data": {
      "text/plain": [
       "(61, 1)"
      ]
     },
     "execution_count": 160,
     "metadata": {},
     "output_type": "execute_result"
    }
   ],
   "source": [
    "Y_pred_nn.shape"
   ]
  },
  {
   "cell_type": "code",
   "execution_count": 161,
   "id": "c71741cb",
   "metadata": {},
   "outputs": [],
   "source": [
    "rounded = [round(x[0]) for x in Y_pred_nn]\n",
    "\n",
    "Y_pred_nn = rounded"
   ]
  },
  {
   "cell_type": "code",
   "execution_count": 162,
   "id": "715e54fc",
   "metadata": {},
   "outputs": [
    {
     "name": "stdout",
     "output_type": "stream",
     "text": [
      "The accuracy score achieved using Neural Network is: 55.74 %\n"
     ]
    }
   ],
   "source": [
    "score_nn = round(accuracy_score(Y_pred_nn,Y_test)*100,2)\n",
    "\n",
    "print(\"The accuracy score achieved using Neural Network is: \"+str(score_nn)+\" %\")\n",
    "\n",
    "#Note: Accuracy of 85% can be achieved on the test set, by setting epochs=2000, and number of nodes = 11. "
   ]
  },
  {
   "cell_type": "markdown",
   "id": "c50669a1",
   "metadata": {},
   "source": [
    "## Output final score"
   ]
  },
  {
   "cell_type": "code",
   "execution_count": 163,
   "id": "1f5412cf",
   "metadata": {},
   "outputs": [
    {
     "name": "stdout",
     "output_type": "stream",
     "text": [
      "The accuracy score achieved using Logistic Regression is: 85.25 %\n",
      "The accuracy score achieved using Naive Bayes is: 85.25 %\n",
      "The accuracy score achieved using Support Vector Machine is: 81.97 %\n",
      "The accuracy score achieved using K-Nearest Neighbors is: 67.21 %\n",
      "The accuracy score achieved using Decision Tree is: 81.97 %\n",
      "The accuracy score achieved using Random Forest is: 90.16 %\n",
      "The accuracy score achieved using XGBoost is: 78.69 %\n",
      "The accuracy score achieved using Neural Network is: 55.74 %\n"
     ]
    }
   ],
   "source": [
    "scores = [score_lr,score_nb,score_svm,score_knn,score_dt,score_rf,score_xgb,score_nn]\n",
    "algorithms = [\"Logistic Regression\",\"Naive Bayes\",\"Support Vector Machine\",\"K-Nearest Neighbors\",\"Decision Tree\",\"Random Forest\",\"XGBoost\",\"Neural Network\"]    \n",
    "\n",
    "for i in range(len(algorithms)):\n",
    "    print(\"The accuracy score achieved using \"+algorithms[i]+\" is: \"+str(scores[i])+\" %\")"
   ]
  },
  {
   "cell_type": "code",
   "execution_count": 164,
   "id": "48fcd68e",
   "metadata": {},
   "outputs": [
    {
     "data": {
      "text/plain": [
       "<AxesSubplot:xlabel='Algorithms', ylabel='Accuracy score'>"
      ]
     },
     "execution_count": 164,
     "metadata": {},
     "output_type": "execute_result"
    },
    {
     "data": {
      "image/png": "[encoded data removed]",
      "text/plain": [
       "<Figure size 1080x576 with 1 Axes>"
      ]
     },
     "metadata": {},
     "output_type": "display_data"
    }
   ],
   "source": [
    "sns.set(rc={'figure.figsize':(15,8)})\n",
    "plt.xlabel(\"Algorithms\")\n",
    "plt.ylabel(\"Accuracy score\")\n",
    "\n",
    "sns.barplot(algorithms,scores)"
   ]
  },
  {
   "cell_type": "markdown",
   "id": "e22e8c15",
   "metadata": {},
   "source": [
    "#### There random forest has good result as compare to other algorithms"
   ]
  },
  {
   "cell_type": "code",
   "execution_count": null,
   "id": "87aff913",
   "metadata": {},
   "outputs": [],
   "source": []
  }
 ],
 "metadata": {
  "kernelspec": {
   "display_name": "Python 3",
   "language": "python",
   "name": "python3"
  },
  "language_info": {
   "codemirror_mode": {
    "name": "ipython",
    "version": 3
   },
   "file_extension": ".py",
   "mimetype": "text/x-python",
   "name": "python",
   "nbconvert_exporter": "python",
   "pygments_lexer": "ipython3",
   "version": "3.8.5"
  }
 },
 "nbformat": 4,
 "nbformat_minor": 5
}
